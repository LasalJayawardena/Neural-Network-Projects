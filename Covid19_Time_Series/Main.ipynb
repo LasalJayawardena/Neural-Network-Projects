{
  "nbformat": 4,
  "nbformat_minor": 0,
  "metadata": {
    "kernelspec": {
      "display_name": "Python 3",
      "language": "python",
      "name": "python3"
    },
    "language_info": {
      "codemirror_mode": {
        "name": "ipython",
        "version": 3
      },
      "file_extension": ".py",
      "mimetype": "text/x-python",
      "name": "python",
      "nbconvert_exporter": "python",
      "pygments_lexer": "ipython3",
      "version": "3.8.8"
    },
    "colab": {
      "name": "Main.ipynb",
      "provenance": [],
      "collapsed_sections": []
    }
  },
  "cells": [
    {
      "cell_type": "markdown",
      "metadata": {
        "id": "xKnrTSIdzBsB"
      },
      "source": [
        "# Comparing time series predictions of COVID-19 deaths"
      ]
    },
    {
      "cell_type": "markdown",
      "metadata": {
        "id": "1rc9R4gZDWBV"
      },
      "source": [
        "### Importing Libraries"
      ]
    },
    {
      "cell_type": "code",
      "metadata": {
        "colab": {
          "base_uri": "https://localhost:8080/"
        },
        "id": "J5byjAjmGVni",
        "outputId": "ce6bffea-d8c6-48f8-cb31-5e7d677a69a0"
      },
      "source": [
        "!pip install pmdarima"
      ],
      "execution_count": 1,
      "outputs": [
        {
          "output_type": "stream",
          "text": [
            "Requirement already satisfied: pmdarima in /usr/local/lib/python3.7/dist-packages (1.8.2)\n",
            "Requirement already satisfied: Cython!=0.29.18,>=0.29 in /usr/local/lib/python3.7/dist-packages (from pmdarima) (0.29.23)\n",
            "Requirement already satisfied: urllib3 in /usr/local/lib/python3.7/dist-packages (from pmdarima) (1.24.3)\n",
            "Requirement already satisfied: setuptools!=50.0.0,>=38.6.0 in /usr/local/lib/python3.7/dist-packages (from pmdarima) (57.0.0)\n",
            "Requirement already satisfied: joblib>=0.11 in /usr/local/lib/python3.7/dist-packages (from pmdarima) (1.0.1)\n",
            "Requirement already satisfied: pandas>=0.19 in /usr/local/lib/python3.7/dist-packages (from pmdarima) (1.1.5)\n",
            "Requirement already satisfied: statsmodels!=0.12.0,>=0.11 in /usr/local/lib/python3.7/dist-packages (from pmdarima) (0.12.2)\n",
            "Requirement already satisfied: scipy>=1.3.2 in /usr/local/lib/python3.7/dist-packages (from pmdarima) (1.4.1)\n",
            "Requirement already satisfied: numpy~=1.19.0 in /usr/local/lib/python3.7/dist-packages (from pmdarima) (1.19.5)\n",
            "Requirement already satisfied: scikit-learn>=0.22 in /usr/local/lib/python3.7/dist-packages (from pmdarima) (0.22.2.post1)\n",
            "Requirement already satisfied: pytz>=2017.2 in /usr/local/lib/python3.7/dist-packages (from pandas>=0.19->pmdarima) (2018.9)\n",
            "Requirement already satisfied: python-dateutil>=2.7.3 in /usr/local/lib/python3.7/dist-packages (from pandas>=0.19->pmdarima) (2.8.1)\n",
            "Requirement already satisfied: patsy>=0.5 in /usr/local/lib/python3.7/dist-packages (from statsmodels!=0.12.0,>=0.11->pmdarima) (0.5.1)\n",
            "Requirement already satisfied: six>=1.5 in /usr/local/lib/python3.7/dist-packages (from python-dateutil>=2.7.3->pandas>=0.19->pmdarima) (1.15.0)\n"
          ],
          "name": "stdout"
        }
      ]
    },
    {
      "cell_type": "code",
      "metadata": {
        "id": "fRbqnui_zBsL"
      },
      "source": [
        "import pmdarima as pm\n",
        "from statsmodels.tsa.seasonal import seasonal_decompose\n",
        "from sklearn.model_selection import TimeSeriesSplit\n",
        "import pandas as pd\n",
        "import numpy as np\n",
        "import datetime\n",
        "import requests\n",
        "import warnings\n",
        "\n",
        "import matplotlib.pyplot as plt\n",
        "import matplotlib\n",
        "import matplotlib.dates as mdates\n",
        "\n",
        "from xgboost import XGBRegressor\n",
        "from sklearn.ensemble import RandomForestRegressor\n",
        "from sklearn.metrics import mean_squared_error, mean_absolute_error\n",
        "from sklearn.preprocessing import OrdinalEncoder\n",
        "from sklearn.svm import SVR\n",
        "from sklearn.model_selection import train_test_split\n",
        "from statsmodels.tsa.statespace.sarimax import SARIMAX\n",
        "from statsmodels.tsa.arima_model import ARIMA\n",
        "from sklearn.preprocessing import StandardScaler\n",
        "from fbprophet import Prophet\n",
        "from fbprophet.plot import plot_plotly, add_changepoints_to_plot\n",
        "from tensorflow.keras.models import Sequential\n",
        "from tensorflow.keras.layers import Dense\n",
        "from tensorflow.keras.optimizers import Adam"
      ],
      "execution_count": 2,
      "outputs": []
    },
    {
      "cell_type": "code",
      "metadata": {
        "id": "7IDDKcuzzBsT"
      },
      "source": [
        "warnings.filterwarnings('ignore')"
      ],
      "execution_count": 3,
      "outputs": []
    },
    {
      "cell_type": "markdown",
      "metadata": {
        "id": "3Ou0Ml6bzBsU"
      },
      "source": [
        "### Load Data"
      ]
    },
    {
      "cell_type": "code",
      "metadata": {
        "id": "xeW0XqXAzBsV"
      },
      "source": [
        "deaths_df = pd.read_csv('time_series_covid19_deaths_global.csv')"
      ],
      "execution_count": 4,
      "outputs": []
    },
    {
      "cell_type": "code",
      "metadata": {
        "colab": {
          "base_uri": "https://localhost:8080/",
          "height": 253
        },
        "id": "F2ZPMRjuDr8W",
        "outputId": "e0349f5d-c473-43c3-dd47-dbe1161403ee"
      },
      "source": [
        "deaths_df.head()"
      ],
      "execution_count": 5,
      "outputs": [
        {
          "output_type": "execute_result",
          "data": {
            "text/html": [
              "<div>\n",
              "<style scoped>\n",
              "    .dataframe tbody tr th:only-of-type {\n",
              "        vertical-align: middle;\n",
              "    }\n",
              "\n",
              "    .dataframe tbody tr th {\n",
              "        vertical-align: top;\n",
              "    }\n",
              "\n",
              "    .dataframe thead th {\n",
              "        text-align: right;\n",
              "    }\n",
              "</style>\n",
              "<table border=\"1\" class=\"dataframe\">\n",
              "  <thead>\n",
              "    <tr style=\"text-align: right;\">\n",
              "      <th></th>\n",
              "      <th>Province/State</th>\n",
              "      <th>Country/Region</th>\n",
              "      <th>Lat</th>\n",
              "      <th>Long</th>\n",
              "      <th>1/22/20</th>\n",
              "      <th>1/23/20</th>\n",
              "      <th>1/24/20</th>\n",
              "      <th>1/25/20</th>\n",
              "      <th>1/26/20</th>\n",
              "      <th>1/27/20</th>\n",
              "      <th>1/28/20</th>\n",
              "      <th>1/29/20</th>\n",
              "      <th>1/30/20</th>\n",
              "      <th>1/31/20</th>\n",
              "      <th>2/1/20</th>\n",
              "      <th>2/2/20</th>\n",
              "      <th>2/3/20</th>\n",
              "      <th>2/4/20</th>\n",
              "      <th>2/5/20</th>\n",
              "      <th>2/6/20</th>\n",
              "      <th>2/7/20</th>\n",
              "      <th>2/8/20</th>\n",
              "      <th>2/9/20</th>\n",
              "      <th>2/10/20</th>\n",
              "      <th>2/11/20</th>\n",
              "      <th>2/12/20</th>\n",
              "      <th>2/13/20</th>\n",
              "      <th>2/14/20</th>\n",
              "      <th>2/15/20</th>\n",
              "      <th>2/16/20</th>\n",
              "      <th>2/17/20</th>\n",
              "      <th>2/18/20</th>\n",
              "      <th>2/19/20</th>\n",
              "      <th>2/20/20</th>\n",
              "      <th>2/21/20</th>\n",
              "      <th>2/22/20</th>\n",
              "      <th>2/23/20</th>\n",
              "      <th>2/24/20</th>\n",
              "      <th>2/25/20</th>\n",
              "      <th>2/26/20</th>\n",
              "      <th>...</th>\n",
              "      <th>7/8/20</th>\n",
              "      <th>7/9/20</th>\n",
              "      <th>7/10/20</th>\n",
              "      <th>7/11/20</th>\n",
              "      <th>7/12/20</th>\n",
              "      <th>7/13/20</th>\n",
              "      <th>7/14/20</th>\n",
              "      <th>7/15/20</th>\n",
              "      <th>7/16/20</th>\n",
              "      <th>7/17/20</th>\n",
              "      <th>7/18/20</th>\n",
              "      <th>7/19/20</th>\n",
              "      <th>7/20/20</th>\n",
              "      <th>7/21/20</th>\n",
              "      <th>7/22/20</th>\n",
              "      <th>7/23/20</th>\n",
              "      <th>7/24/20</th>\n",
              "      <th>7/25/20</th>\n",
              "      <th>7/26/20</th>\n",
              "      <th>7/27/20</th>\n",
              "      <th>7/28/20</th>\n",
              "      <th>7/29/20</th>\n",
              "      <th>7/30/20</th>\n",
              "      <th>7/31/20</th>\n",
              "      <th>8/1/20</th>\n",
              "      <th>8/2/20</th>\n",
              "      <th>8/3/20</th>\n",
              "      <th>8/4/20</th>\n",
              "      <th>8/5/20</th>\n",
              "      <th>8/6/20</th>\n",
              "      <th>8/7/20</th>\n",
              "      <th>8/8/20</th>\n",
              "      <th>8/9/20</th>\n",
              "      <th>8/10/20</th>\n",
              "      <th>8/11/20</th>\n",
              "      <th>8/12/20</th>\n",
              "      <th>8/13/20</th>\n",
              "      <th>8/14/20</th>\n",
              "      <th>8/15/20</th>\n",
              "      <th>8/16/20</th>\n",
              "    </tr>\n",
              "  </thead>\n",
              "  <tbody>\n",
              "    <tr>\n",
              "      <th>0</th>\n",
              "      <td>NaN</td>\n",
              "      <td>Afghanistan</td>\n",
              "      <td>33.93911</td>\n",
              "      <td>67.709953</td>\n",
              "      <td>0</td>\n",
              "      <td>0</td>\n",
              "      <td>0</td>\n",
              "      <td>0</td>\n",
              "      <td>0</td>\n",
              "      <td>0</td>\n",
              "      <td>0</td>\n",
              "      <td>0</td>\n",
              "      <td>0</td>\n",
              "      <td>0</td>\n",
              "      <td>0</td>\n",
              "      <td>0</td>\n",
              "      <td>0</td>\n",
              "      <td>0</td>\n",
              "      <td>0</td>\n",
              "      <td>0</td>\n",
              "      <td>0</td>\n",
              "      <td>0</td>\n",
              "      <td>0</td>\n",
              "      <td>0</td>\n",
              "      <td>0</td>\n",
              "      <td>0</td>\n",
              "      <td>0</td>\n",
              "      <td>0</td>\n",
              "      <td>0</td>\n",
              "      <td>0</td>\n",
              "      <td>0</td>\n",
              "      <td>0</td>\n",
              "      <td>0</td>\n",
              "      <td>0</td>\n",
              "      <td>0</td>\n",
              "      <td>0</td>\n",
              "      <td>0</td>\n",
              "      <td>0</td>\n",
              "      <td>0</td>\n",
              "      <td>0</td>\n",
              "      <td>...</td>\n",
              "      <td>936</td>\n",
              "      <td>957</td>\n",
              "      <td>971</td>\n",
              "      <td>994</td>\n",
              "      <td>1010</td>\n",
              "      <td>1012</td>\n",
              "      <td>1048</td>\n",
              "      <td>1094</td>\n",
              "      <td>1113</td>\n",
              "      <td>1147</td>\n",
              "      <td>1164</td>\n",
              "      <td>1181</td>\n",
              "      <td>1185</td>\n",
              "      <td>1186</td>\n",
              "      <td>1190</td>\n",
              "      <td>1211</td>\n",
              "      <td>1225</td>\n",
              "      <td>1248</td>\n",
              "      <td>1259</td>\n",
              "      <td>1269</td>\n",
              "      <td>1270</td>\n",
              "      <td>1271</td>\n",
              "      <td>1271</td>\n",
              "      <td>1272</td>\n",
              "      <td>1283</td>\n",
              "      <td>1284</td>\n",
              "      <td>1288</td>\n",
              "      <td>1288</td>\n",
              "      <td>1294</td>\n",
              "      <td>1298</td>\n",
              "      <td>1307</td>\n",
              "      <td>1312</td>\n",
              "      <td>1312</td>\n",
              "      <td>1328</td>\n",
              "      <td>1344</td>\n",
              "      <td>1354</td>\n",
              "      <td>1363</td>\n",
              "      <td>1363</td>\n",
              "      <td>1370</td>\n",
              "      <td>1375</td>\n",
              "    </tr>\n",
              "    <tr>\n",
              "      <th>1</th>\n",
              "      <td>NaN</td>\n",
              "      <td>Albania</td>\n",
              "      <td>41.15330</td>\n",
              "      <td>20.168300</td>\n",
              "      <td>0</td>\n",
              "      <td>0</td>\n",
              "      <td>0</td>\n",
              "      <td>0</td>\n",
              "      <td>0</td>\n",
              "      <td>0</td>\n",
              "      <td>0</td>\n",
              "      <td>0</td>\n",
              "      <td>0</td>\n",
              "      <td>0</td>\n",
              "      <td>0</td>\n",
              "      <td>0</td>\n",
              "      <td>0</td>\n",
              "      <td>0</td>\n",
              "      <td>0</td>\n",
              "      <td>0</td>\n",
              "      <td>0</td>\n",
              "      <td>0</td>\n",
              "      <td>0</td>\n",
              "      <td>0</td>\n",
              "      <td>0</td>\n",
              "      <td>0</td>\n",
              "      <td>0</td>\n",
              "      <td>0</td>\n",
              "      <td>0</td>\n",
              "      <td>0</td>\n",
              "      <td>0</td>\n",
              "      <td>0</td>\n",
              "      <td>0</td>\n",
              "      <td>0</td>\n",
              "      <td>0</td>\n",
              "      <td>0</td>\n",
              "      <td>0</td>\n",
              "      <td>0</td>\n",
              "      <td>0</td>\n",
              "      <td>0</td>\n",
              "      <td>...</td>\n",
              "      <td>83</td>\n",
              "      <td>83</td>\n",
              "      <td>85</td>\n",
              "      <td>89</td>\n",
              "      <td>93</td>\n",
              "      <td>95</td>\n",
              "      <td>97</td>\n",
              "      <td>101</td>\n",
              "      <td>104</td>\n",
              "      <td>107</td>\n",
              "      <td>111</td>\n",
              "      <td>112</td>\n",
              "      <td>113</td>\n",
              "      <td>117</td>\n",
              "      <td>120</td>\n",
              "      <td>123</td>\n",
              "      <td>128</td>\n",
              "      <td>134</td>\n",
              "      <td>138</td>\n",
              "      <td>144</td>\n",
              "      <td>148</td>\n",
              "      <td>150</td>\n",
              "      <td>154</td>\n",
              "      <td>157</td>\n",
              "      <td>161</td>\n",
              "      <td>166</td>\n",
              "      <td>172</td>\n",
              "      <td>176</td>\n",
              "      <td>182</td>\n",
              "      <td>188</td>\n",
              "      <td>189</td>\n",
              "      <td>193</td>\n",
              "      <td>199</td>\n",
              "      <td>200</td>\n",
              "      <td>205</td>\n",
              "      <td>208</td>\n",
              "      <td>213</td>\n",
              "      <td>219</td>\n",
              "      <td>225</td>\n",
              "      <td>228</td>\n",
              "    </tr>\n",
              "    <tr>\n",
              "      <th>2</th>\n",
              "      <td>NaN</td>\n",
              "      <td>Algeria</td>\n",
              "      <td>28.03390</td>\n",
              "      <td>1.659600</td>\n",
              "      <td>0</td>\n",
              "      <td>0</td>\n",
              "      <td>0</td>\n",
              "      <td>0</td>\n",
              "      <td>0</td>\n",
              "      <td>0</td>\n",
              "      <td>0</td>\n",
              "      <td>0</td>\n",
              "      <td>0</td>\n",
              "      <td>0</td>\n",
              "      <td>0</td>\n",
              "      <td>0</td>\n",
              "      <td>0</td>\n",
              "      <td>0</td>\n",
              "      <td>0</td>\n",
              "      <td>0</td>\n",
              "      <td>0</td>\n",
              "      <td>0</td>\n",
              "      <td>0</td>\n",
              "      <td>0</td>\n",
              "      <td>0</td>\n",
              "      <td>0</td>\n",
              "      <td>0</td>\n",
              "      <td>0</td>\n",
              "      <td>0</td>\n",
              "      <td>0</td>\n",
              "      <td>0</td>\n",
              "      <td>0</td>\n",
              "      <td>0</td>\n",
              "      <td>0</td>\n",
              "      <td>0</td>\n",
              "      <td>0</td>\n",
              "      <td>0</td>\n",
              "      <td>0</td>\n",
              "      <td>0</td>\n",
              "      <td>0</td>\n",
              "      <td>...</td>\n",
              "      <td>978</td>\n",
              "      <td>988</td>\n",
              "      <td>996</td>\n",
              "      <td>1004</td>\n",
              "      <td>1011</td>\n",
              "      <td>1018</td>\n",
              "      <td>1028</td>\n",
              "      <td>1040</td>\n",
              "      <td>1052</td>\n",
              "      <td>1057</td>\n",
              "      <td>1068</td>\n",
              "      <td>1078</td>\n",
              "      <td>1087</td>\n",
              "      <td>1100</td>\n",
              "      <td>1111</td>\n",
              "      <td>1124</td>\n",
              "      <td>1136</td>\n",
              "      <td>1146</td>\n",
              "      <td>1155</td>\n",
              "      <td>1163</td>\n",
              "      <td>1174</td>\n",
              "      <td>1186</td>\n",
              "      <td>1200</td>\n",
              "      <td>1210</td>\n",
              "      <td>1223</td>\n",
              "      <td>1231</td>\n",
              "      <td>1239</td>\n",
              "      <td>1248</td>\n",
              "      <td>1261</td>\n",
              "      <td>1273</td>\n",
              "      <td>1282</td>\n",
              "      <td>1293</td>\n",
              "      <td>1302</td>\n",
              "      <td>1312</td>\n",
              "      <td>1322</td>\n",
              "      <td>1333</td>\n",
              "      <td>1341</td>\n",
              "      <td>1351</td>\n",
              "      <td>1360</td>\n",
              "      <td>1370</td>\n",
              "    </tr>\n",
              "    <tr>\n",
              "      <th>3</th>\n",
              "      <td>NaN</td>\n",
              "      <td>Andorra</td>\n",
              "      <td>42.50630</td>\n",
              "      <td>1.521800</td>\n",
              "      <td>0</td>\n",
              "      <td>0</td>\n",
              "      <td>0</td>\n",
              "      <td>0</td>\n",
              "      <td>0</td>\n",
              "      <td>0</td>\n",
              "      <td>0</td>\n",
              "      <td>0</td>\n",
              "      <td>0</td>\n",
              "      <td>0</td>\n",
              "      <td>0</td>\n",
              "      <td>0</td>\n",
              "      <td>0</td>\n",
              "      <td>0</td>\n",
              "      <td>0</td>\n",
              "      <td>0</td>\n",
              "      <td>0</td>\n",
              "      <td>0</td>\n",
              "      <td>0</td>\n",
              "      <td>0</td>\n",
              "      <td>0</td>\n",
              "      <td>0</td>\n",
              "      <td>0</td>\n",
              "      <td>0</td>\n",
              "      <td>0</td>\n",
              "      <td>0</td>\n",
              "      <td>0</td>\n",
              "      <td>0</td>\n",
              "      <td>0</td>\n",
              "      <td>0</td>\n",
              "      <td>0</td>\n",
              "      <td>0</td>\n",
              "      <td>0</td>\n",
              "      <td>0</td>\n",
              "      <td>0</td>\n",
              "      <td>0</td>\n",
              "      <td>...</td>\n",
              "      <td>52</td>\n",
              "      <td>52</td>\n",
              "      <td>52</td>\n",
              "      <td>52</td>\n",
              "      <td>52</td>\n",
              "      <td>52</td>\n",
              "      <td>52</td>\n",
              "      <td>52</td>\n",
              "      <td>52</td>\n",
              "      <td>52</td>\n",
              "      <td>52</td>\n",
              "      <td>52</td>\n",
              "      <td>52</td>\n",
              "      <td>52</td>\n",
              "      <td>52</td>\n",
              "      <td>52</td>\n",
              "      <td>52</td>\n",
              "      <td>52</td>\n",
              "      <td>52</td>\n",
              "      <td>52</td>\n",
              "      <td>52</td>\n",
              "      <td>52</td>\n",
              "      <td>52</td>\n",
              "      <td>52</td>\n",
              "      <td>52</td>\n",
              "      <td>52</td>\n",
              "      <td>52</td>\n",
              "      <td>52</td>\n",
              "      <td>52</td>\n",
              "      <td>52</td>\n",
              "      <td>52</td>\n",
              "      <td>52</td>\n",
              "      <td>52</td>\n",
              "      <td>52</td>\n",
              "      <td>52</td>\n",
              "      <td>53</td>\n",
              "      <td>53</td>\n",
              "      <td>53</td>\n",
              "      <td>53</td>\n",
              "      <td>53</td>\n",
              "    </tr>\n",
              "    <tr>\n",
              "      <th>4</th>\n",
              "      <td>NaN</td>\n",
              "      <td>Angola</td>\n",
              "      <td>-11.20270</td>\n",
              "      <td>17.873900</td>\n",
              "      <td>0</td>\n",
              "      <td>0</td>\n",
              "      <td>0</td>\n",
              "      <td>0</td>\n",
              "      <td>0</td>\n",
              "      <td>0</td>\n",
              "      <td>0</td>\n",
              "      <td>0</td>\n",
              "      <td>0</td>\n",
              "      <td>0</td>\n",
              "      <td>0</td>\n",
              "      <td>0</td>\n",
              "      <td>0</td>\n",
              "      <td>0</td>\n",
              "      <td>0</td>\n",
              "      <td>0</td>\n",
              "      <td>0</td>\n",
              "      <td>0</td>\n",
              "      <td>0</td>\n",
              "      <td>0</td>\n",
              "      <td>0</td>\n",
              "      <td>0</td>\n",
              "      <td>0</td>\n",
              "      <td>0</td>\n",
              "      <td>0</td>\n",
              "      <td>0</td>\n",
              "      <td>0</td>\n",
              "      <td>0</td>\n",
              "      <td>0</td>\n",
              "      <td>0</td>\n",
              "      <td>0</td>\n",
              "      <td>0</td>\n",
              "      <td>0</td>\n",
              "      <td>0</td>\n",
              "      <td>0</td>\n",
              "      <td>0</td>\n",
              "      <td>...</td>\n",
              "      <td>21</td>\n",
              "      <td>22</td>\n",
              "      <td>23</td>\n",
              "      <td>23</td>\n",
              "      <td>26</td>\n",
              "      <td>26</td>\n",
              "      <td>26</td>\n",
              "      <td>27</td>\n",
              "      <td>28</td>\n",
              "      <td>29</td>\n",
              "      <td>29</td>\n",
              "      <td>29</td>\n",
              "      <td>29</td>\n",
              "      <td>30</td>\n",
              "      <td>33</td>\n",
              "      <td>33</td>\n",
              "      <td>35</td>\n",
              "      <td>39</td>\n",
              "      <td>40</td>\n",
              "      <td>41</td>\n",
              "      <td>47</td>\n",
              "      <td>48</td>\n",
              "      <td>51</td>\n",
              "      <td>52</td>\n",
              "      <td>54</td>\n",
              "      <td>55</td>\n",
              "      <td>58</td>\n",
              "      <td>59</td>\n",
              "      <td>62</td>\n",
              "      <td>64</td>\n",
              "      <td>67</td>\n",
              "      <td>70</td>\n",
              "      <td>75</td>\n",
              "      <td>78</td>\n",
              "      <td>80</td>\n",
              "      <td>80</td>\n",
              "      <td>80</td>\n",
              "      <td>86</td>\n",
              "      <td>86</td>\n",
              "      <td>88</td>\n",
              "    </tr>\n",
              "  </tbody>\n",
              "</table>\n",
              "<p>5 rows × 212 columns</p>\n",
              "</div>"
            ],
            "text/plain": [
              "  Province/State Country/Region       Lat  ...  8/14/20  8/15/20  8/16/20\n",
              "0            NaN    Afghanistan  33.93911  ...     1363     1370     1375\n",
              "1            NaN        Albania  41.15330  ...      219      225      228\n",
              "2            NaN        Algeria  28.03390  ...     1351     1360     1370\n",
              "3            NaN        Andorra  42.50630  ...       53       53       53\n",
              "4            NaN         Angola -11.20270  ...       86       86       88\n",
              "\n",
              "[5 rows x 212 columns]"
            ]
          },
          "metadata": {
            "tags": []
          },
          "execution_count": 5
        }
      ]
    },
    {
      "cell_type": "code",
      "metadata": {
        "id": "7G5qqe2BzBsY"
      },
      "source": [
        "# Get deaths\n",
        "d = deaths_df.loc[:, '1/22/20':]"
      ],
      "execution_count": 6,
      "outputs": []
    },
    {
      "cell_type": "code",
      "metadata": {
        "id": "lfJrnQ3YzBsg"
      },
      "source": [
        "d = d.transpose()"
      ],
      "execution_count": 7,
      "outputs": []
    },
    {
      "cell_type": "code",
      "metadata": {
        "id": "XmC4uDWpzBsk"
      },
      "source": [
        "# Get row-wise sum\n",
        "d = d.sum(axis=1)"
      ],
      "execution_count": 8,
      "outputs": []
    },
    {
      "cell_type": "code",
      "metadata": {
        "colab": {
          "base_uri": "https://localhost:8080/"
        },
        "id": "DblBavdxEH4W",
        "outputId": "fcf94fda-c5be-4b41-cff9-1ec167a411fd"
      },
      "source": [
        "d"
      ],
      "execution_count": 9,
      "outputs": [
        {
          "output_type": "execute_result",
          "data": {
            "text/plain": [
              "1/22/20        17\n",
              "1/23/20        18\n",
              "1/24/20        26\n",
              "1/25/20        42\n",
              "1/26/20        56\n",
              "            ...  \n",
              "8/12/20    743989\n",
              "8/13/20    750230\n",
              "8/14/20    760374\n",
              "8/15/20    765718\n",
              "8/16/20    769904\n",
              "Length: 208, dtype: int64"
            ]
          },
          "metadata": {
            "tags": []
          },
          "execution_count": 9
        }
      ]
    },
    {
      "cell_type": "code",
      "metadata": {
        "id": "iW67zHIpzBsl"
      },
      "source": [
        "d = d.to_list()"
      ],
      "execution_count": 10,
      "outputs": []
    },
    {
      "cell_type": "code",
      "metadata": {
        "id": "9AnbsTIFzBso"
      },
      "source": [
        "# Create New dataframe\n",
        "dataset = pd.DataFrame(columns=['ds', 'y'])"
      ],
      "execution_count": 11,
      "outputs": []
    },
    {
      "cell_type": "code",
      "metadata": {
        "id": "XWcYt7S-zBss"
      },
      "source": [
        "# Get the Dates\n",
        "dates = list(deaths_df.columns[4:])"
      ],
      "execution_count": 12,
      "outputs": []
    },
    {
      "cell_type": "code",
      "metadata": {
        "id": "yxWyNSx3zBsv"
      },
      "source": [
        "# convert dates to date-time format\n",
        "dates = list(pd.to_datetime(dates))"
      ],
      "execution_count": 13,
      "outputs": []
    },
    {
      "cell_type": "code",
      "metadata": {
        "id": "fD2dFCNbzBsw"
      },
      "source": [
        "dataset['ds'] = dates\n",
        "dataset['y'] = d"
      ],
      "execution_count": 14,
      "outputs": []
    },
    {
      "cell_type": "code",
      "metadata": {
        "id": "rAm9CFk_zBsz"
      },
      "source": [
        "# make the dates the index\n",
        "dataset=dataset.set_index('ds')"
      ],
      "execution_count": 15,
      "outputs": []
    },
    {
      "cell_type": "code",
      "metadata": {
        "colab": {
          "base_uri": "https://localhost:8080/",
          "height": 235
        },
        "id": "RfgUlvuLErtW",
        "outputId": "3bf9ff87-40da-4bdc-b0b6-9ec03439a3b1"
      },
      "source": [
        "dataset.head()"
      ],
      "execution_count": 16,
      "outputs": [
        {
          "output_type": "execute_result",
          "data": {
            "text/html": [
              "<div>\n",
              "<style scoped>\n",
              "    .dataframe tbody tr th:only-of-type {\n",
              "        vertical-align: middle;\n",
              "    }\n",
              "\n",
              "    .dataframe tbody tr th {\n",
              "        vertical-align: top;\n",
              "    }\n",
              "\n",
              "    .dataframe thead th {\n",
              "        text-align: right;\n",
              "    }\n",
              "</style>\n",
              "<table border=\"1\" class=\"dataframe\">\n",
              "  <thead>\n",
              "    <tr style=\"text-align: right;\">\n",
              "      <th></th>\n",
              "      <th>y</th>\n",
              "    </tr>\n",
              "    <tr>\n",
              "      <th>ds</th>\n",
              "      <th></th>\n",
              "    </tr>\n",
              "  </thead>\n",
              "  <tbody>\n",
              "    <tr>\n",
              "      <th>2020-01-22</th>\n",
              "      <td>17</td>\n",
              "    </tr>\n",
              "    <tr>\n",
              "      <th>2020-01-23</th>\n",
              "      <td>18</td>\n",
              "    </tr>\n",
              "    <tr>\n",
              "      <th>2020-01-24</th>\n",
              "      <td>26</td>\n",
              "    </tr>\n",
              "    <tr>\n",
              "      <th>2020-01-25</th>\n",
              "      <td>42</td>\n",
              "    </tr>\n",
              "    <tr>\n",
              "      <th>2020-01-26</th>\n",
              "      <td>56</td>\n",
              "    </tr>\n",
              "  </tbody>\n",
              "</table>\n",
              "</div>"
            ],
            "text/plain": [
              "             y\n",
              "ds            \n",
              "2020-01-22  17\n",
              "2020-01-23  18\n",
              "2020-01-24  26\n",
              "2020-01-25  42\n",
              "2020-01-26  56"
            ]
          },
          "metadata": {
            "tags": []
          },
          "execution_count": 16
        }
      ]
    },
    {
      "cell_type": "code",
      "metadata": {
        "colab": {
          "base_uri": "https://localhost:8080/",
          "height": 592
        },
        "id": "1pt-EI0szBs0",
        "outputId": "bc3eaa65-b75b-4e52-ed39-ae07d7064d77"
      },
      "source": [
        "# Plot the daily number of deaths\n",
        "\n",
        "plt.figure(figsize=(10, 10))\n",
        "plt.plot(dataset)\n",
        "plt.savefig('Cummulative daily deaths', bbox_inches='tight', transparent=False)"
      ],
      "execution_count": 17,
      "outputs": [
        {
          "output_type": "display_data",
          "data": {
            "image/png": "[encoded data removed]",
            "text/plain": [
              "<Figure size 720x720 with 1 Axes>"
            ]
          },
          "metadata": {
            "tags": [],
            "needs_background": "light"
          }
        }
      ]
    },
    {
      "cell_type": "code",
      "metadata": {
        "colab": {
          "base_uri": "https://localhost:8080/",
          "height": 592
        },
        "id": "Yd7kryAmzBs2",
        "outputId": "4eec22eb-3865-4c4b-f6d2-732ddc61fb3d"
      },
      "source": [
        "# Plot the Daily Increase in Deaths\n",
        "\n",
        "plt.figure(figsize=(10, 10))\n",
        "plt.plot(dataset.diff())\n",
        "plt.savefig('Daily deaths', bbox_inches='tight', transparent=False)"
      ],
      "execution_count": 18,
      "outputs": [
        {
          "output_type": "display_data",
          "data": {
            "image/png": "[encoded data removed]",
            "text/plain": [
              "<Figure size 720x720 with 1 Axes>"
            ]
          },
          "metadata": {
            "tags": [],
            "needs_background": "light"
          }
        }
      ]
    },
    {
      "cell_type": "code",
      "metadata": {
        "id": "4TgiUn5zzBs8"
      },
      "source": [
        "dataset = dataset.diff()"
      ],
      "execution_count": 19,
      "outputs": []
    },
    {
      "cell_type": "code",
      "metadata": {
        "id": "2LdowavVzBtB"
      },
      "source": [
        "# Remove first day\n",
        "dataset = dataset.loc['2020-01-23':'2020-08-13']"
      ],
      "execution_count": 20,
      "outputs": []
    },
    {
      "cell_type": "code",
      "metadata": {
        "id": "jSuq3aPUGhYu"
      },
      "source": [
        "# Split Data\n",
        "\n",
        "start_date = '2020-07-31'\n",
        "\n",
        "train = dataset.loc[dataset.index < pd.to_datetime(start_date)]\n",
        "test = dataset.loc[dataset.index >= pd.to_datetime(start_date)]"
      ],
      "execution_count": 24,
      "outputs": []
    },
    {
      "cell_type": "markdown",
      "metadata": {
        "id": "PJOsVIlpzBtC"
      },
      "source": [
        "### Forecasting using SARIMAX(Seasonal AutoRegressive Integrated Moving Average with eXogenous regressors)"
      ]
    },
    {
      "cell_type": "code",
      "metadata": {
        "colab": {
          "base_uri": "https://localhost:8080/"
        },
        "id": "kvGl8xNgzBtQ",
        "outputId": "5f1a5ac8-2052-47a4-8bf8-55b8ff1fa817"
      },
      "source": [
        "# use auto_Arima to find best hyper parameters\n",
        "\n",
        "model = pm.auto_arima(train, start_p=1, start_q=1,\n",
        "                      test='adf',       # use adftest to find optimal 'd'\n",
        "                      max_p=3, max_q=3,  # maximum p and q\n",
        "                      m=1,              # frequency of series\n",
        "                      d=None,           # let model determine 'd'\n",
        "                      seasonal=False,   # No Seasonality\n",
        "                      start_P=0,\n",
        "                      D=0,\n",
        "                      trace=True,\n",
        "                      error_action='ignore',\n",
        "                      suppress_warnings=True,\n",
        "                      stepwise=True)\n",
        "\n",
        "print(model.summary())"
      ],
      "execution_count": 29,
      "outputs": [
        {
          "output_type": "stream",
          "text": [
            "Performing stepwise search to minimize aic\n",
            " ARIMA(1,1,1)(0,0,0)[0] intercept   : AIC=3111.971, Time=0.22 sec\n",
            " ARIMA(0,1,0)(0,0,0)[0] intercept   : AIC=3132.320, Time=0.01 sec\n",
            " ARIMA(1,1,0)(0,0,0)[0] intercept   : AIC=3133.730, Time=0.03 sec\n",
            " ARIMA(0,1,1)(0,0,0)[0] intercept   : AIC=3133.267, Time=0.04 sec\n",
            " ARIMA(0,1,0)(0,0,0)[0]             : AIC=3130.535, Time=0.01 sec\n",
            " ARIMA(2,1,1)(0,0,0)[0] intercept   : AIC=3099.414, Time=0.47 sec\n",
            " ARIMA(2,1,0)(0,0,0)[0] intercept   : AIC=3128.118, Time=0.05 sec\n",
            " ARIMA(3,1,1)(0,0,0)[0] intercept   : AIC=3089.597, Time=0.50 sec\n",
            " ARIMA(3,1,0)(0,0,0)[0] intercept   : AIC=3116.490, Time=0.07 sec\n",
            " ARIMA(3,1,2)(0,0,0)[0] intercept   : AIC=3043.847, Time=0.66 sec\n",
            " ARIMA(2,1,2)(0,0,0)[0] intercept   : AIC=3040.433, Time=0.56 sec\n",
            " ARIMA(1,1,2)(0,0,0)[0] intercept   : AIC=3106.308, Time=0.46 sec\n",
            " ARIMA(2,1,3)(0,0,0)[0] intercept   : AIC=3025.720, Time=0.73 sec\n",
            " ARIMA(1,1,3)(0,0,0)[0] intercept   : AIC=3105.847, Time=0.49 sec\n",
            " ARIMA(3,1,3)(0,0,0)[0] intercept   : AIC=3032.793, Time=0.86 sec\n",
            " ARIMA(2,1,3)(0,0,0)[0]             : AIC=3024.848, Time=0.56 sec\n",
            " ARIMA(1,1,3)(0,0,0)[0]             : AIC=inf, Time=0.37 sec\n",
            " ARIMA(2,1,2)(0,0,0)[0]             : AIC=inf, Time=0.26 sec\n",
            " ARIMA(3,1,3)(0,0,0)[0]             : AIC=3036.912, Time=0.66 sec\n",
            " ARIMA(1,1,2)(0,0,0)[0]             : AIC=3106.064, Time=0.19 sec\n",
            " ARIMA(3,1,2)(0,0,0)[0]             : AIC=3030.661, Time=0.55 sec\n",
            "\n",
            "Best model:  ARIMA(2,1,3)(0,0,0)[0]          \n",
            "Total fit time: 7.804 seconds\n",
            "                               SARIMAX Results                                \n",
            "==============================================================================\n",
            "Dep. Variable:                      y   No. Observations:                  190\n",
            "Model:               SARIMAX(2, 1, 3)   Log Likelihood               -1506.424\n",
            "Date:                Thu, 08 Jul 2021   AIC                           3024.848\n",
            "Time:                        17:12:47   BIC                           3044.298\n",
            "Sample:                             0   HQIC                          3032.728\n",
            "                                - 190                                         \n",
            "Covariance Type:                  opg                                         \n",
            "==============================================================================\n",
            "                 coef    std err          z      P>|z|      [0.025      0.975]\n",
            "------------------------------------------------------------------------------\n",
            "ar.L1          1.2434      0.017     72.425      0.000       1.210       1.277\n",
            "ar.L2         -0.9796      0.019    -51.210      0.000      -1.017      -0.942\n",
            "ma.L1         -1.7687      0.065    -27.197      0.000      -1.896      -1.641\n",
            "ma.L2          1.4753      0.097     15.267      0.000       1.286       1.665\n",
            "ma.L3         -0.3939      0.064     -6.142      0.000      -0.520      -0.268\n",
            "sigma2      4.964e+05   3.61e+04     13.750      0.000    4.26e+05    5.67e+05\n",
            "===================================================================================\n",
            "Ljung-Box (L1) (Q):                   0.28   Jarque-Bera (JB):                95.44\n",
            "Prob(Q):                              0.59   Prob(JB):                         0.00\n",
            "Heteroskedasticity (H):              13.70   Skew:                             0.67\n",
            "Prob(H) (two-sided):                  0.00   Kurtosis:                         6.22\n",
            "===================================================================================\n",
            "\n",
            "Warnings:\n",
            "[1] Covariance matrix calculated using the outer product of gradients (complex-step).\n"
          ],
          "name": "stdout"
        }
      ]
    },
    {
      "cell_type": "code",
      "metadata": {
        "id": "90w922R5zBtG"
      },
      "source": [
        "model = SARIMAX(train, order=(2, 1, 3))"
      ],
      "execution_count": 25,
      "outputs": []
    },
    {
      "cell_type": "code",
      "metadata": {
        "id": "EtQzrUFDzBtI"
      },
      "source": [
        "results = model.fit(disp=True)"
      ],
      "execution_count": 26,
      "outputs": []
    },
    {
      "cell_type": "code",
      "metadata": {
        "colab": {
          "base_uri": "https://localhost:8080/",
          "height": 320
        },
        "id": "cA_ezIeVzBtJ",
        "outputId": "1fb8a730-0f4e-47c5-d725-8a4976699661"
      },
      "source": [
        "# Predict and Compare with original Results\n",
        "\n",
        "sarimax_prediction = results.predict(\n",
        "    start=start_date, end='2020-08-13', dynamic=False)\n",
        "plt.figure(figsize=(10, 5))\n",
        "l1, = plt.plot(dataset, label='Observation')\n",
        "l2, = plt.plot(sarimax_prediction, label='ARIMA')\n",
        "plt.legend(handles=[l1, l2])\n",
        "plt.savefig('SARIMAX prediction', bbox_inches='tight', transparent=False)"
      ],
      "execution_count": 27,
      "outputs": [
        {
          "output_type": "display_data",
          "data": {
            "image/png": "[encoded data removed]",
            "text/plain": [
              "<Figure size 720x360 with 1 Axes>"
            ]
          },
          "metadata": {
            "tags": [],
            "needs_background": "light"
          }
        }
      ]
    },
    {
      "cell_type": "code",
      "metadata": {
        "colab": {
          "base_uri": "https://localhost:8080/"
        },
        "id": "jQmwtmQOzBtM",
        "outputId": "6e1ea644-4b5a-404b-9557-0dc23dfc0d97"
      },
      "source": [
        "print('SARIMAX MAE = ', mean_absolute_error(sarimax_prediction, test))"
      ],
      "execution_count": 28,
      "outputs": [
        {
          "output_type": "stream",
          "text": [
            "SARIMAX MAE =  650.6154682219609\n"
          ],
          "name": "stdout"
        }
      ]
    },
    {
      "cell_type": "markdown",
      "metadata": {
        "id": "T6gq4wskzBtX"
      },
      "source": [
        "### Forecasting using Facebook's Prophet"
      ]
    },
    {
      "cell_type": "code",
      "metadata": {
        "id": "nE5f55gYzBtY"
      },
      "source": [
        "train['ds'] = train.index.values"
      ],
      "execution_count": 30,
      "outputs": []
    },
    {
      "cell_type": "code",
      "metadata": {
        "colab": {
          "base_uri": "https://localhost:8080/"
        },
        "id": "MyjP4DGezBtY",
        "outputId": "6ed3ac1b-76c0-44df-a0dd-6489dc87ce5f"
      },
      "source": [
        "# Create new Prophet object and fit\n",
        "\n",
        "m = Prophet()\n",
        "m.fit(train)"
      ],
      "execution_count": 31,
      "outputs": [
        {
          "output_type": "stream",
          "text": [
            "INFO:numexpr.utils:NumExpr defaulting to 2 threads.\n",
            "INFO:fbprophet:Disabling yearly seasonality. Run prophet with yearly_seasonality=True to override this.\n",
            "INFO:fbprophet:Disabling daily seasonality. Run prophet with daily_seasonality=True to override this.\n"
          ],
          "name": "stderr"
        },
        {
          "output_type": "execute_result",
          "data": {
            "text/plain": [
              "<fbprophet.forecaster.Prophet at 0x7f0d4ca58e10>"
            ]
          },
          "metadata": {
            "tags": []
          },
          "execution_count": 31
        }
      ]
    },
    {
      "cell_type": "code",
      "metadata": {
        "id": "BeQAX6dQzBta"
      },
      "source": [
        "future = m.make_future_dataframe(periods=dataset.shape[0]-train.shape[0]) # Find number of days to predict\n",
        "prophet_prediction = m.predict(future)"
      ],
      "execution_count": 32,
      "outputs": []
    },
    {
      "cell_type": "code",
      "metadata": {
        "colab": {
          "base_uri": "https://localhost:8080/",
          "height": 320
        },
        "id": "XBEZr2q4zBth",
        "outputId": "a58cd65a-a4ee-4c18-8cdd-83cda3659293"
      },
      "source": [
        "# Predict and Compare with original Results\n",
        "\n",
        "plt.figure(figsize=(10, 5))\n",
        "l1, = plt.plot(dataset, label='Observation')\n",
        "l1, = plt.plot(prophet_future, label='Prophet')\n",
        "plt.legend(handles=[l1, l2])\n",
        "plt.savefig('Prophet predictions',\n",
        "            bbox_inches='tight', transparent=False)"
      ],
      "execution_count": 29,
      "outputs": [
        {
          "output_type": "display_data",
          "data": {
            "image/png": "[encoded data removed]",
            "text/plain": [
              "<Figure size 720x360 with 1 Axes>"
            ]
          },
          "metadata": {
            "tags": [],
            "needs_background": "light"
          }
        }
      ]
    },
    {
      "cell_type": "code",
      "metadata": {
        "colab": {
          "base_uri": "https://localhost:8080/"
        },
        "id": "ae8mzmRwzBtd",
        "outputId": "a0bd9815-89c4-45d1-a421-c92f36965070"
      },
      "source": [
        "prophet_prediction = prophet_prediction.set_index('ds')\n",
        "prophet_future = prophet_prediction.yhat.loc[prophet_prediction.index >= start_date]\n",
        "print('Prophet MAE = ', mean_absolute_error(prophet_future, test))"
      ],
      "execution_count": 33,
      "outputs": [
        {
          "output_type": "stream",
          "text": [
            "Prophet MAE =  571.8872860781038\n"
          ],
          "name": "stdout"
        }
      ]
    },
    {
      "cell_type": "markdown",
      "metadata": {
        "id": "N3RDYKWhzBti"
      },
      "source": [
        "### Preprocess Data for XGBOOST and Neural Network"
      ]
    },
    {
      "cell_type": "code",
      "metadata": {
        "id": "3u6_8aV3zBtj"
      },
      "source": [
        "def featurize(t):\n",
        "    X = pd.DataFrame()\n",
        "\n",
        "    X['day'] = t.index.day\n",
        "    X['month'] = t.index.month\n",
        "    X['quarter'] = t.index.quarter\n",
        "    X['dayofweek'] = t.index.dayofweek\n",
        "    X['dayofyear'] = t.index.dayofyear\n",
        "    X['weekofyear'] = t.index.weekofyear\n",
        "    y = t.y\n",
        "    return X, y"
      ],
      "execution_count": 37,
      "outputs": []
    },
    {
      "cell_type": "code",
      "metadata": {
        "id": "4oz435HqzBtm"
      },
      "source": [
        "# Create Train and Test Datasets\n",
        "\n",
        "X_train, y_train = featurize(\n",
        "    dataset.loc[dataset.index < pd.to_datetime(start_date)])\n",
        "X_test, y_test = featurize(\n",
        "    dataset.loc[dataset.index >= pd.to_datetime(start_date)])"
      ],
      "execution_count": 38,
      "outputs": []
    },
    {
      "cell_type": "code",
      "metadata": {
        "colab": {
          "base_uri": "https://localhost:8080/"
        },
        "id": "NZ7oRyZCzBtp",
        "outputId": "6f1fbb4d-6406-4e65-f2b6-ba0514e7bff8"
      },
      "source": [
        "scaler = StandardScaler()\n",
        "scaler.fit(X_train)"
      ],
      "execution_count": 39,
      "outputs": [
        {
          "output_type": "execute_result",
          "data": {
            "text/plain": [
              "StandardScaler(copy=True, with_mean=True, with_std=True)"
            ]
          },
          "metadata": {
            "tags": []
          },
          "execution_count": 39
        }
      ]
    },
    {
      "cell_type": "code",
      "metadata": {
        "id": "Nz2y4_NXzBtw"
      },
      "source": [
        "### Apply the scaling to both the training and test \n",
        "\n",
        "scaled_train = scaler.transform(X_train)\n",
        "scaled_test = scaler.transform(X_test)"
      ],
      "execution_count": 40,
      "outputs": []
    },
    {
      "cell_type": "markdown",
      "metadata": {
        "id": "U_4Y3d3fzBtx"
      },
      "source": [
        "### Train XGBOOST and Neural Network models"
      ]
    },
    {
      "cell_type": "code",
      "metadata": {
        "id": "FwA_lNPtzBtz"
      },
      "source": [
        "XGBOOST_model = XGBRegressor(n_estimators=7)"
      ],
      "execution_count": 41,
      "outputs": []
    },
    {
      "cell_type": "code",
      "metadata": {
        "colab": {
          "base_uri": "https://localhost:8080/"
        },
        "id": "gqAWqMoSzBt0",
        "outputId": "38caee8f-ed22-4c78-d99b-737c5c350b8f"
      },
      "source": [
        "XGBOOST_model.fit(scaled_train, y_train,\n",
        "                  eval_set=[(scaled_train, y_train), (scaled_test, y_test)],\n",
        "                  verbose=True)\n",
        "XGBOOST_prediction = XGBOOST_model.predict(scaled_test)"
      ],
      "execution_count": 42,
      "outputs": [
        {
          "output_type": "stream",
          "text": [
            "[17:23:36] WARNING: /workspace/src/objective/regression_obj.cu:152: reg:linear is now deprecated in favor of reg:squarederror.\n",
            "[0]\tvalidation_0-rmse:3926.27\tvalidation_1-rmse:5364.15\n",
            "[1]\tvalidation_0-rmse:3563.2\tvalidation_1-rmse:4909.52\n",
            "[2]\tvalidation_0-rmse:3234.76\tvalidation_1-rmse:4536.32\n",
            "[3]\tvalidation_0-rmse:2939.88\tvalidation_1-rmse:4200.33\n",
            "[4]\tvalidation_0-rmse:2674.4\tvalidation_1-rmse:3862.47\n",
            "[5]\tvalidation_0-rmse:2439.07\tvalidation_1-rmse:3591.74\n",
            "[6]\tvalidation_0-rmse:2223.52\tvalidation_1-rmse:3261.25\n"
          ],
          "name": "stdout"
        }
      ]
    },
    {
      "cell_type": "code",
      "metadata": {
        "colab": {
          "base_uri": "https://localhost:8080/"
        },
        "id": "bfrkvNbzzBt2",
        "outputId": "e9389c0d-cede-4aac-a364-d4f394bd0972"
      },
      "source": [
        "print('XGBOOST MAE = ', mean_absolute_error(XGBOOST_prediction, y_test))"
      ],
      "execution_count": 43,
      "outputs": [
        {
          "output_type": "stream",
          "text": [
            "XGBOOST MAE =  3194.1184430803573\n"
          ],
          "name": "stdout"
        }
      ]
    },
    {
      "cell_type": "code",
      "metadata": {
        "colab": {
          "base_uri": "https://localhost:8080/"
        },
        "id": "MWekxJRNzBt4",
        "outputId": "a2a383d9-5814-4b53-bc6f-a0b25b53c2a6"
      },
      "source": [
        "# BasicFeed-Forward Neural Network\n",
        "\n",
        "NN_model = Sequential()\n",
        "NN_model.add(Dense(20, input_shape=(scaled_train.shape[1],)))\n",
        "NN_model.add(Dense(10))\n",
        "NN_model.add(Dense(1))\n",
        "NN_model.compile(loss='mean_absolute_error', optimizer=Adam(lr=0.001))\n",
        "NN_model.fit(scaled_train, y_train, validation_data=(\n",
        "    scaled_test, y_test), epochs=210, verbose=1)\n",
        "NN_prediction = NN_model.predict(scaled_test)"
      ],
      "execution_count": 44,
      "outputs": [
        {
          "output_type": "stream",
          "text": [
            "Epoch 1/210\n",
            "6/6 [==============================] - 1s 39ms/step - loss: 3521.5349 - val_loss: 5792.8135\n",
            "Epoch 2/210\n",
            "6/6 [==============================] - 0s 8ms/step - loss: 3521.4922 - val_loss: 5792.8228\n",
            "Epoch 3/210\n",
            "6/6 [==============================] - 0s 7ms/step - loss: 3521.4495 - val_loss: 5792.7603\n",
            "Epoch 4/210\n",
            "6/6 [==============================] - 0s 10ms/step - loss: 3521.4072 - val_loss: 5792.7095\n",
            "Epoch 5/210\n",
            "6/6 [==============================] - 0s 6ms/step - loss: 3521.3625 - val_loss: 5792.6133\n",
            "Epoch 6/210\n",
            "6/6 [==============================] - 0s 6ms/step - loss: 3521.3147 - val_loss: 5792.5151\n",
            "Epoch 7/210\n",
            "6/6 [==============================] - 0s 5ms/step - loss: 3521.2629 - val_loss: 5792.3779\n",
            "Epoch 8/210\n",
            "6/6 [==============================] - 0s 6ms/step - loss: 3521.2053 - val_loss: 5792.2446\n",
            "Epoch 9/210\n",
            "6/6 [==============================] - 0s 6ms/step - loss: 3521.1418 - val_loss: 5792.0835\n",
            "Epoch 10/210\n",
            "6/6 [==============================] - 0s 7ms/step - loss: 3521.0723 - val_loss: 5791.9834\n",
            "Epoch 11/210\n",
            "6/6 [==============================] - 0s 6ms/step - loss: 3520.9915 - val_loss: 5791.7666\n",
            "Epoch 12/210\n",
            "6/6 [==============================] - 0s 7ms/step - loss: 3520.9026 - val_loss: 5791.5103\n",
            "Epoch 13/210\n",
            "6/6 [==============================] - 0s 7ms/step - loss: 3520.7996 - val_loss: 5791.2119\n",
            "Epoch 14/210\n",
            "6/6 [==============================] - 0s 5ms/step - loss: 3520.6846 - val_loss: 5790.9507\n",
            "Epoch 15/210\n",
            "6/6 [==============================] - 0s 6ms/step - loss: 3520.5571 - val_loss: 5790.6304\n",
            "Epoch 16/210\n",
            "6/6 [==============================] - 0s 6ms/step - loss: 3520.4099 - val_loss: 5790.2769\n",
            "Epoch 17/210\n",
            "6/6 [==============================] - 0s 6ms/step - loss: 3520.2512 - val_loss: 5789.7524\n",
            "Epoch 18/210\n",
            "6/6 [==============================] - 0s 6ms/step - loss: 3520.0625 - val_loss: 5789.2954\n",
            "Epoch 19/210\n",
            "6/6 [==============================] - 0s 5ms/step - loss: 3519.8540 - val_loss: 5788.8120\n",
            "Epoch 20/210\n",
            "6/6 [==============================] - 0s 6ms/step - loss: 3519.6204 - val_loss: 5788.3447\n",
            "Epoch 21/210\n",
            "6/6 [==============================] - 0s 7ms/step - loss: 3519.3596 - val_loss: 5787.7275\n",
            "Epoch 22/210\n",
            "6/6 [==============================] - 0s 10ms/step - loss: 3519.0718 - val_loss: 5787.0352\n",
            "Epoch 23/210\n",
            "6/6 [==============================] - 0s 5ms/step - loss: 3518.7468 - val_loss: 5786.3901\n",
            "Epoch 24/210\n",
            "6/6 [==============================] - 0s 6ms/step - loss: 3518.3950 - val_loss: 5785.4756\n",
            "Epoch 25/210\n",
            "6/6 [==============================] - 0s 6ms/step - loss: 3517.9988 - val_loss: 5784.6069\n",
            "Epoch 26/210\n",
            "6/6 [==============================] - 0s 6ms/step - loss: 3517.5642 - val_loss: 5783.6045\n",
            "Epoch 27/210\n",
            "6/6 [==============================] - 0s 6ms/step - loss: 3517.0835 - val_loss: 5782.6328\n",
            "Epoch 28/210\n",
            "6/6 [==============================] - 0s 6ms/step - loss: 3516.5608 - val_loss: 5781.5815\n",
            "Epoch 29/210\n",
            "6/6 [==============================] - 0s 7ms/step - loss: 3515.9866 - val_loss: 5780.5811\n",
            "Epoch 30/210\n",
            "6/6 [==============================] - 0s 6ms/step - loss: 3515.3662 - val_loss: 5779.3638\n",
            "Epoch 31/210\n",
            "6/6 [==============================] - 0s 7ms/step - loss: 3514.6885 - val_loss: 5778.0938\n",
            "Epoch 32/210\n",
            "6/6 [==============================] - 0s 7ms/step - loss: 3513.9509 - val_loss: 5776.6011\n",
            "Epoch 33/210\n",
            "6/6 [==============================] - 0s 6ms/step - loss: 3513.1545 - val_loss: 5774.9595\n",
            "Epoch 34/210\n",
            "6/6 [==============================] - 0s 6ms/step - loss: 3512.2991 - val_loss: 5773.1274\n",
            "Epoch 35/210\n",
            "6/6 [==============================] - 0s 6ms/step - loss: 3511.3596 - val_loss: 5771.6089\n",
            "Epoch 36/210\n",
            "6/6 [==============================] - 0s 6ms/step - loss: 3510.3752 - val_loss: 5769.6372\n",
            "Epoch 37/210\n",
            "6/6 [==============================] - 0s 6ms/step - loss: 3509.3208 - val_loss: 5767.5649\n",
            "Epoch 38/210\n",
            "6/6 [==============================] - 0s 6ms/step - loss: 3508.1907 - val_loss: 5764.9878\n",
            "Epoch 39/210\n",
            "6/6 [==============================] - 0s 6ms/step - loss: 3506.9895 - val_loss: 5762.3726\n",
            "Epoch 40/210\n",
            "6/6 [==============================] - 0s 6ms/step - loss: 3505.7048 - val_loss: 5759.9487\n",
            "Epoch 41/210\n",
            "6/6 [==============================] - 0s 5ms/step - loss: 3504.3525 - val_loss: 5756.8950\n",
            "Epoch 42/210\n",
            "6/6 [==============================] - 0s 5ms/step - loss: 3502.9185 - val_loss: 5753.3569\n",
            "Epoch 43/210\n",
            "6/6 [==============================] - 0s 5ms/step - loss: 3501.3806 - val_loss: 5750.1040\n",
            "Epoch 44/210\n",
            "6/6 [==============================] - 0s 10ms/step - loss: 3499.8005 - val_loss: 5746.0200\n",
            "Epoch 45/210\n",
            "6/6 [==============================] - 0s 6ms/step - loss: 3498.0510 - val_loss: 5742.4038\n",
            "Epoch 46/210\n",
            "6/6 [==============================] - 0s 5ms/step - loss: 3496.2659 - val_loss: 5738.2603\n",
            "Epoch 47/210\n",
            "6/6 [==============================] - 0s 6ms/step - loss: 3494.3833 - val_loss: 5733.9136\n",
            "Epoch 48/210\n",
            "6/6 [==============================] - 0s 7ms/step - loss: 3492.3701 - val_loss: 5729.5713\n",
            "Epoch 49/210\n",
            "6/6 [==============================] - 0s 7ms/step - loss: 3490.2927 - val_loss: 5725.0771\n",
            "Epoch 50/210\n",
            "6/6 [==============================] - 0s 6ms/step - loss: 3488.1016 - val_loss: 5720.1616\n",
            "Epoch 51/210\n",
            "6/6 [==============================] - 0s 5ms/step - loss: 3485.8440 - val_loss: 5714.4932\n",
            "Epoch 52/210\n",
            "6/6 [==============================] - 0s 7ms/step - loss: 3483.3914 - val_loss: 5709.2212\n",
            "Epoch 53/210\n",
            "6/6 [==============================] - 0s 7ms/step - loss: 3480.9756 - val_loss: 5702.3022\n",
            "Epoch 54/210\n",
            "6/6 [==============================] - 0s 6ms/step - loss: 3478.3145 - val_loss: 5696.4644\n",
            "Epoch 55/210\n",
            "6/6 [==============================] - 0s 6ms/step - loss: 3475.5959 - val_loss: 5690.0522\n",
            "Epoch 56/210\n",
            "6/6 [==============================] - 0s 10ms/step - loss: 3472.7698 - val_loss: 5682.9922\n",
            "Epoch 57/210\n",
            "6/6 [==============================] - 0s 6ms/step - loss: 3469.8218 - val_loss: 5675.5469\n",
            "Epoch 58/210\n",
            "6/6 [==============================] - 0s 5ms/step - loss: 3466.7729 - val_loss: 5667.6978\n",
            "Epoch 59/210\n",
            "6/6 [==============================] - 0s 8ms/step - loss: 3463.4441 - val_loss: 5660.8071\n",
            "Epoch 60/210\n",
            "6/6 [==============================] - 0s 6ms/step - loss: 3460.2119 - val_loss: 5652.8003\n",
            "Epoch 61/210\n",
            "6/6 [==============================] - 0s 6ms/step - loss: 3456.7554 - val_loss: 5644.5122\n",
            "Epoch 62/210\n",
            "6/6 [==============================] - 0s 6ms/step - loss: 3453.1960 - val_loss: 5635.1870\n",
            "Epoch 63/210\n",
            "6/6 [==============================] - 0s 6ms/step - loss: 3449.5366 - val_loss: 5625.4888\n",
            "Epoch 64/210\n",
            "6/6 [==============================] - 0s 6ms/step - loss: 3445.6365 - val_loss: 5615.8774\n",
            "Epoch 65/210\n",
            "6/6 [==============================] - 0s 5ms/step - loss: 3441.7058 - val_loss: 5605.8081\n",
            "Epoch 66/210\n",
            "6/6 [==============================] - 0s 6ms/step - loss: 3437.7144 - val_loss: 5594.1909\n",
            "Epoch 67/210\n",
            "6/6 [==============================] - 0s 6ms/step - loss: 3433.4092 - val_loss: 5583.0469\n",
            "Epoch 68/210\n",
            "6/6 [==============================] - 0s 6ms/step - loss: 3429.0103 - val_loss: 5572.0493\n",
            "Epoch 69/210\n",
            "6/6 [==============================] - 0s 6ms/step - loss: 3424.5950 - val_loss: 5559.1616\n",
            "Epoch 70/210\n",
            "6/6 [==============================] - 0s 8ms/step - loss: 3419.8127 - val_loss: 5546.7510\n",
            "Epoch 71/210\n",
            "6/6 [==============================] - 0s 7ms/step - loss: 3415.0415 - val_loss: 5534.5610\n",
            "Epoch 72/210\n",
            "6/6 [==============================] - 0s 6ms/step - loss: 3410.0845 - val_loss: 5522.5269\n",
            "Epoch 73/210\n",
            "6/6 [==============================] - 0s 6ms/step - loss: 3405.0286 - val_loss: 5509.7603\n",
            "Epoch 74/210\n",
            "6/6 [==============================] - 0s 6ms/step - loss: 3399.9277 - val_loss: 5494.3696\n",
            "Epoch 75/210\n",
            "6/6 [==============================] - 0s 6ms/step - loss: 3394.2791 - val_loss: 5481.8101\n",
            "Epoch 76/210\n",
            "6/6 [==============================] - 0s 6ms/step - loss: 3388.9429 - val_loss: 5466.6597\n",
            "Epoch 77/210\n",
            "6/6 [==============================] - 0s 6ms/step - loss: 3383.1531 - val_loss: 5452.4814\n",
            "Epoch 78/210\n",
            "6/6 [==============================] - 0s 6ms/step - loss: 3377.3521 - val_loss: 5437.0415\n",
            "Epoch 79/210\n",
            "6/6 [==============================] - 0s 6ms/step - loss: 3371.3325 - val_loss: 5421.5225\n",
            "Epoch 80/210\n",
            "6/6 [==============================] - 0s 5ms/step - loss: 3365.0869 - val_loss: 5407.0425\n",
            "Epoch 81/210\n",
            "6/6 [==============================] - 0s 6ms/step - loss: 3358.8921 - val_loss: 5390.2075\n",
            "Epoch 82/210\n",
            "6/6 [==============================] - 0s 6ms/step - loss: 3352.4131 - val_loss: 5373.1782\n",
            "Epoch 83/210\n",
            "6/6 [==============================] - 0s 6ms/step - loss: 3345.9937 - val_loss: 5353.6665\n",
            "Epoch 84/210\n",
            "6/6 [==============================] - 0s 6ms/step - loss: 3338.8533 - val_loss: 5337.0400\n",
            "Epoch 85/210\n",
            "6/6 [==============================] - 0s 6ms/step - loss: 3332.0405 - val_loss: 5318.3364\n",
            "Epoch 86/210\n",
            "6/6 [==============================] - 0s 6ms/step - loss: 3324.8921 - val_loss: 5299.4761\n",
            "Epoch 87/210\n",
            "6/6 [==============================] - 0s 7ms/step - loss: 3317.6460 - val_loss: 5278.6274\n",
            "Epoch 88/210\n",
            "6/6 [==============================] - 0s 7ms/step - loss: 3310.2405 - val_loss: 5257.3701\n",
            "Epoch 89/210\n",
            "6/6 [==============================] - 0s 5ms/step - loss: 3302.2195 - val_loss: 5238.5181\n",
            "Epoch 90/210\n",
            "6/6 [==============================] - 0s 6ms/step - loss: 3294.4397 - val_loss: 5219.4756\n",
            "Epoch 91/210\n",
            "6/6 [==============================] - 0s 7ms/step - loss: 3286.5625 - val_loss: 5197.6499\n",
            "Epoch 92/210\n",
            "6/6 [==============================] - 0s 8ms/step - loss: 3278.2180 - val_loss: 5176.4639\n",
            "Epoch 93/210\n",
            "6/6 [==============================] - 0s 7ms/step - loss: 3269.8682 - val_loss: 5155.5718\n",
            "Epoch 94/210\n",
            "6/6 [==============================] - 0s 7ms/step - loss: 3261.4375 - val_loss: 5132.6328\n",
            "Epoch 95/210\n",
            "6/6 [==============================] - 0s 6ms/step - loss: 3253.0684 - val_loss: 5107.3838\n",
            "Epoch 96/210\n",
            "6/6 [==============================] - 0s 6ms/step - loss: 3243.9841 - val_loss: 5083.8345\n",
            "Epoch 97/210\n",
            "6/6 [==============================] - 0s 6ms/step - loss: 3234.5356 - val_loss: 5063.8359\n",
            "Epoch 98/210\n",
            "6/6 [==============================] - 0s 6ms/step - loss: 3225.6855 - val_loss: 5037.4639\n",
            "Epoch 99/210\n",
            "6/6 [==============================] - 0s 7ms/step - loss: 3215.9246 - val_loss: 5014.5161\n",
            "Epoch 100/210\n",
            "6/6 [==============================] - 0s 6ms/step - loss: 3206.5073 - val_loss: 4987.7100\n",
            "Epoch 101/210\n",
            "6/6 [==============================] - 0s 6ms/step - loss: 3196.3960 - val_loss: 4961.5522\n",
            "Epoch 102/210\n",
            "6/6 [==============================] - 0s 7ms/step - loss: 3186.4194 - val_loss: 4935.9443\n",
            "Epoch 103/210\n",
            "6/6 [==============================] - 0s 6ms/step - loss: 3176.2319 - val_loss: 4908.4585\n",
            "Epoch 104/210\n",
            "6/6 [==============================] - 0s 8ms/step - loss: 3166.0239 - val_loss: 4879.1069\n",
            "Epoch 105/210\n",
            "6/6 [==============================] - 0s 6ms/step - loss: 3154.9783 - val_loss: 4851.9561\n",
            "Epoch 106/210\n",
            "6/6 [==============================] - 0s 6ms/step - loss: 3144.5723 - val_loss: 4820.9365\n",
            "Epoch 107/210\n",
            "6/6 [==============================] - 0s 6ms/step - loss: 3133.0862 - val_loss: 4794.1372\n",
            "Epoch 108/210\n",
            "6/6 [==============================] - 0s 6ms/step - loss: 3122.3450 - val_loss: 4762.1797\n",
            "Epoch 109/210\n",
            "6/6 [==============================] - 0s 8ms/step - loss: 3110.7456 - val_loss: 4732.0381\n",
            "Epoch 110/210\n",
            "6/6 [==============================] - 0s 6ms/step - loss: 3098.8667 - val_loss: 4703.2397\n",
            "Epoch 111/210\n",
            "6/6 [==============================] - 0s 6ms/step - loss: 3086.9045 - val_loss: 4674.9209\n",
            "Epoch 112/210\n",
            "6/6 [==============================] - 0s 6ms/step - loss: 3074.8157 - val_loss: 4644.7803\n",
            "Epoch 113/210\n",
            "6/6 [==============================] - 0s 8ms/step - loss: 3062.6033 - val_loss: 4613.0615\n",
            "Epoch 114/210\n",
            "6/6 [==============================] - 0s 6ms/step - loss: 3050.0684 - val_loss: 4582.0020\n",
            "Epoch 115/210\n",
            "6/6 [==============================] - 0s 8ms/step - loss: 3037.2583 - val_loss: 4551.5459\n",
            "Epoch 116/210\n",
            "6/6 [==============================] - 0s 7ms/step - loss: 3024.8506 - val_loss: 4513.8530\n",
            "Epoch 117/210\n",
            "6/6 [==============================] - 0s 7ms/step - loss: 3011.3901 - val_loss: 4478.3369\n",
            "Epoch 118/210\n",
            "6/6 [==============================] - 0s 7ms/step - loss: 2997.6218 - val_loss: 4446.4380\n",
            "Epoch 119/210\n",
            "6/6 [==============================] - 0s 6ms/step - loss: 2984.1348 - val_loss: 4411.6543\n",
            "Epoch 120/210\n",
            "6/6 [==============================] - 0s 6ms/step - loss: 2970.4216 - val_loss: 4373.5981\n",
            "Epoch 121/210\n",
            "6/6 [==============================] - 0s 5ms/step - loss: 2956.5120 - val_loss: 4332.7661\n",
            "Epoch 122/210\n",
            "6/6 [==============================] - 0s 7ms/step - loss: 2942.4128 - val_loss: 4292.4521\n",
            "Epoch 123/210\n",
            "6/6 [==============================] - 0s 9ms/step - loss: 2927.4368 - val_loss: 4256.7954\n",
            "Epoch 124/210\n",
            "6/6 [==============================] - 0s 6ms/step - loss: 2913.0112 - val_loss: 4218.5049\n",
            "Epoch 125/210\n",
            "6/6 [==============================] - 0s 6ms/step - loss: 2897.8718 - val_loss: 4180.7241\n",
            "Epoch 126/210\n",
            "6/6 [==============================] - 0s 6ms/step - loss: 2882.8806 - val_loss: 4139.4321\n",
            "Epoch 127/210\n",
            "6/6 [==============================] - 0s 7ms/step - loss: 2867.7444 - val_loss: 4097.9453\n",
            "Epoch 128/210\n",
            "6/6 [==============================] - 0s 6ms/step - loss: 2851.8037 - val_loss: 4056.1340\n",
            "Epoch 129/210\n",
            "6/6 [==============================] - 0s 6ms/step - loss: 2835.9382 - val_loss: 4014.9565\n",
            "Epoch 130/210\n",
            "6/6 [==============================] - 0s 9ms/step - loss: 2820.1750 - val_loss: 3968.3376\n",
            "Epoch 131/210\n",
            "6/6 [==============================] - 0s 6ms/step - loss: 2803.4121 - val_loss: 3926.0012\n",
            "Epoch 132/210\n",
            "6/6 [==============================] - 0s 6ms/step - loss: 2787.2783 - val_loss: 3881.8179\n",
            "Epoch 133/210\n",
            "6/6 [==============================] - 0s 6ms/step - loss: 2770.3760 - val_loss: 3835.1018\n",
            "Epoch 134/210\n",
            "6/6 [==============================] - 0s 7ms/step - loss: 2753.4263 - val_loss: 3787.5117\n",
            "Epoch 135/210\n",
            "6/6 [==============================] - 0s 6ms/step - loss: 2735.9136 - val_loss: 3743.3081\n",
            "Epoch 136/210\n",
            "6/6 [==============================] - 0s 5ms/step - loss: 2719.2310 - val_loss: 3688.5496\n",
            "Epoch 137/210\n",
            "6/6 [==============================] - 0s 6ms/step - loss: 2701.2805 - val_loss: 3643.5942\n",
            "Epoch 138/210\n",
            "6/6 [==============================] - 0s 7ms/step - loss: 2684.3816 - val_loss: 3591.6724\n",
            "Epoch 139/210\n",
            "6/6 [==============================] - 0s 7ms/step - loss: 2666.1021 - val_loss: 3544.3533\n",
            "Epoch 140/210\n",
            "6/6 [==============================] - 0s 7ms/step - loss: 2648.3093 - val_loss: 3496.3472\n",
            "Epoch 141/210\n",
            "6/6 [==============================] - 0s 7ms/step - loss: 2630.2319 - val_loss: 3447.2388\n",
            "Epoch 142/210\n",
            "6/6 [==============================] - 0s 6ms/step - loss: 2611.9666 - val_loss: 3395.5667\n",
            "Epoch 143/210\n",
            "6/6 [==============================] - 0s 6ms/step - loss: 2593.3572 - val_loss: 3342.8735\n",
            "Epoch 144/210\n",
            "6/6 [==============================] - 0s 7ms/step - loss: 2574.1101 - val_loss: 3293.0000\n",
            "Epoch 145/210\n",
            "6/6 [==============================] - 0s 8ms/step - loss: 2555.0981 - val_loss: 3237.9558\n",
            "Epoch 146/210\n",
            "6/6 [==============================] - 0s 6ms/step - loss: 2536.3140 - val_loss: 3181.3047\n",
            "Epoch 147/210\n",
            "6/6 [==============================] - 0s 8ms/step - loss: 2516.2715 - val_loss: 3125.6790\n",
            "Epoch 148/210\n",
            "6/6 [==============================] - 0s 6ms/step - loss: 2496.2283 - val_loss: 3075.6814\n",
            "Epoch 149/210\n",
            "6/6 [==============================] - 0s 6ms/step - loss: 2476.3079 - val_loss: 3021.6868\n",
            "Epoch 150/210\n",
            "6/6 [==============================] - 0s 6ms/step - loss: 2456.0598 - val_loss: 2961.4934\n",
            "Epoch 151/210\n",
            "6/6 [==============================] - 0s 7ms/step - loss: 2436.1731 - val_loss: 2895.1360\n",
            "Epoch 152/210\n",
            "6/6 [==============================] - 0s 5ms/step - loss: 2415.0996 - val_loss: 2834.6501\n",
            "Epoch 153/210\n",
            "6/6 [==============================] - 0s 7ms/step - loss: 2393.5664 - val_loss: 2780.1211\n",
            "Epoch 154/210\n",
            "6/6 [==============================] - 0s 11ms/step - loss: 2372.3550 - val_loss: 2725.3572\n",
            "Epoch 155/210\n",
            "6/6 [==============================] - 0s 9ms/step - loss: 2350.9641 - val_loss: 2665.1101\n",
            "Epoch 156/210\n",
            "6/6 [==============================] - 0s 6ms/step - loss: 2329.6526 - val_loss: 2596.9241\n",
            "Epoch 157/210\n",
            "6/6 [==============================] - 0s 6ms/step - loss: 2307.2810 - val_loss: 2534.2209\n",
            "Epoch 158/210\n",
            "6/6 [==============================] - 0s 7ms/step - loss: 2284.8474 - val_loss: 2472.0747\n",
            "Epoch 159/210\n",
            "6/6 [==============================] - 0s 7ms/step - loss: 2262.4961 - val_loss: 2409.5454\n",
            "Epoch 160/210\n",
            "6/6 [==============================] - 0s 6ms/step - loss: 2239.6863 - val_loss: 2347.0125\n",
            "Epoch 161/210\n",
            "6/6 [==============================] - 0s 7ms/step - loss: 2215.8970 - val_loss: 2289.4116\n",
            "Epoch 162/210\n",
            "6/6 [==============================] - 0s 6ms/step - loss: 2192.9709 - val_loss: 2225.0737\n",
            "Epoch 163/210\n",
            "6/6 [==============================] - 0s 6ms/step - loss: 2169.7378 - val_loss: 2157.4084\n",
            "Epoch 164/210\n",
            "6/6 [==============================] - 0s 9ms/step - loss: 2145.6838 - val_loss: 2090.8459\n",
            "Epoch 165/210\n",
            "6/6 [==============================] - 0s 5ms/step - loss: 2121.7166 - val_loss: 2023.1188\n",
            "Epoch 166/210\n",
            "6/6 [==============================] - 0s 6ms/step - loss: 2096.8721 - val_loss: 1957.0067\n",
            "Epoch 167/210\n",
            "6/6 [==============================] - 0s 7ms/step - loss: 2073.0088 - val_loss: 1891.9392\n",
            "Epoch 168/210\n",
            "6/6 [==============================] - 0s 6ms/step - loss: 2049.6345 - val_loss: 1817.6752\n",
            "Epoch 169/210\n",
            "6/6 [==============================] - 0s 7ms/step - loss: 2025.5483 - val_loss: 1749.0300\n",
            "Epoch 170/210\n",
            "6/6 [==============================] - 0s 7ms/step - loss: 2001.4540 - val_loss: 1680.6490\n",
            "Epoch 171/210\n",
            "6/6 [==============================] - 0s 6ms/step - loss: 1976.6506 - val_loss: 1616.9521\n",
            "Epoch 172/210\n",
            "6/6 [==============================] - 0s 6ms/step - loss: 1952.6123 - val_loss: 1549.9591\n",
            "Epoch 173/210\n",
            "6/6 [==============================] - 0s 7ms/step - loss: 1928.5044 - val_loss: 1487.9014\n",
            "Epoch 174/210\n",
            "6/6 [==============================] - 0s 7ms/step - loss: 1904.5546 - val_loss: 1426.0837\n",
            "Epoch 175/210\n",
            "6/6 [==============================] - 0s 7ms/step - loss: 1882.1765 - val_loss: 1361.5316\n",
            "Epoch 176/210\n",
            "6/6 [==============================] - 0s 6ms/step - loss: 1859.6337 - val_loss: 1320.9023\n",
            "Epoch 177/210\n",
            "6/6 [==============================] - 0s 6ms/step - loss: 1839.6237 - val_loss: 1281.5529\n",
            "Epoch 178/210\n",
            "6/6 [==============================] - 0s 6ms/step - loss: 1819.2750 - val_loss: 1253.3835\n",
            "Epoch 179/210\n",
            "6/6 [==============================] - 0s 7ms/step - loss: 1800.9285 - val_loss: 1226.7498\n",
            "Epoch 180/210\n",
            "6/6 [==============================] - 0s 7ms/step - loss: 1782.3690 - val_loss: 1198.2698\n",
            "Epoch 181/210\n",
            "6/6 [==============================] - 0s 5ms/step - loss: 1764.0188 - val_loss: 1170.7786\n",
            "Epoch 182/210\n",
            "6/6 [==============================] - 0s 5ms/step - loss: 1745.4402 - val_loss: 1146.4039\n",
            "Epoch 183/210\n",
            "6/6 [==============================] - 0s 9ms/step - loss: 1727.9036 - val_loss: 1116.1935\n",
            "Epoch 184/210\n",
            "6/6 [==============================] - 0s 6ms/step - loss: 1709.8286 - val_loss: 1094.4727\n",
            "Epoch 185/210\n",
            "6/6 [==============================] - 0s 6ms/step - loss: 1691.5067 - val_loss: 1069.3510\n",
            "Epoch 186/210\n",
            "6/6 [==============================] - 0s 6ms/step - loss: 1674.0597 - val_loss: 1042.9023\n",
            "Epoch 187/210\n",
            "6/6 [==============================] - 0s 7ms/step - loss: 1655.8640 - val_loss: 1018.9453\n",
            "Epoch 188/210\n",
            "6/6 [==============================] - 0s 6ms/step - loss: 1639.1965 - val_loss: 997.9067\n",
            "Epoch 189/210\n",
            "6/6 [==============================] - 0s 5ms/step - loss: 1622.2302 - val_loss: 973.1578\n",
            "Epoch 190/210\n",
            "6/6 [==============================] - 0s 8ms/step - loss: 1605.7426 - val_loss: 945.1232\n",
            "Epoch 191/210\n",
            "6/6 [==============================] - 0s 7ms/step - loss: 1588.6785 - val_loss: 921.3498\n",
            "Epoch 192/210\n",
            "6/6 [==============================] - 0s 6ms/step - loss: 1573.9097 - val_loss: 898.5977\n",
            "Epoch 193/210\n",
            "6/6 [==============================] - 0s 7ms/step - loss: 1558.8853 - val_loss: 880.4139\n",
            "Epoch 194/210\n",
            "6/6 [==============================] - 0s 6ms/step - loss: 1544.7278 - val_loss: 869.1417\n",
            "Epoch 195/210\n",
            "6/6 [==============================] - 0s 7ms/step - loss: 1531.1246 - val_loss: 858.0829\n",
            "Epoch 196/210\n",
            "6/6 [==============================] - 0s 8ms/step - loss: 1517.5413 - val_loss: 847.3329\n",
            "Epoch 197/210\n",
            "6/6 [==============================] - 0s 6ms/step - loss: 1504.0204 - val_loss: 839.9007\n",
            "Epoch 198/210\n",
            "6/6 [==============================] - 0s 6ms/step - loss: 1491.8263 - val_loss: 828.4056\n",
            "Epoch 199/210\n",
            "6/6 [==============================] - 0s 6ms/step - loss: 1478.9711 - val_loss: 815.9943\n",
            "Epoch 200/210\n",
            "6/6 [==============================] - 0s 6ms/step - loss: 1466.7430 - val_loss: 802.8232\n",
            "Epoch 201/210\n",
            "6/6 [==============================] - 0s 6ms/step - loss: 1454.8867 - val_loss: 791.4164\n",
            "Epoch 202/210\n",
            "6/6 [==============================] - 0s 8ms/step - loss: 1444.0658 - val_loss: 773.5240\n",
            "Epoch 203/210\n",
            "6/6 [==============================] - 0s 6ms/step - loss: 1429.8071 - val_loss: 767.3341\n",
            "Epoch 204/210\n",
            "6/6 [==============================] - 0s 8ms/step - loss: 1418.4648 - val_loss: 760.6530\n",
            "Epoch 205/210\n",
            "6/6 [==============================] - 0s 6ms/step - loss: 1407.9156 - val_loss: 752.7988\n",
            "Epoch 206/210\n",
            "6/6 [==============================] - 0s 7ms/step - loss: 1395.5493 - val_loss: 747.6416\n",
            "Epoch 207/210\n",
            "6/6 [==============================] - 0s 6ms/step - loss: 1384.0970 - val_loss: 741.7303\n",
            "Epoch 208/210\n",
            "6/6 [==============================] - 0s 6ms/step - loss: 1373.1642 - val_loss: 734.9786\n",
            "Epoch 209/210\n",
            "6/6 [==============================] - 0s 7ms/step - loss: 1363.0081 - val_loss: 728.3266\n",
            "Epoch 210/210\n",
            "6/6 [==============================] - 0s 6ms/step - loss: 1353.3950 - val_loss: 724.5165\n"
          ],
          "name": "stdout"
        }
      ]
    },
    {
      "cell_type": "markdown",
      "metadata": {
        "id": "OVujGmxbKRjX"
      },
      "source": [
        "### Assess All Models"
      ]
    },
    {
      "cell_type": "code",
      "metadata": {
        "colab": {
          "base_uri": "https://localhost:8080/"
        },
        "id": "1P4XuxoczBt5",
        "outputId": "b089d7c2-4b2c-4dbb-8b71-50a3a6576451"
      },
      "source": [
        "# Compare all the MAE values.\n",
        "\n",
        "print('XGBOOST MAE = ', mean_absolute_error(XGBOOST_prediction, y_test))\n",
        "print('Prophet MAE = ', mean_absolute_error(prophet_future, test))\n",
        "print('SARIMAX MAE = ', mean_absolute_error(sarimax_prediction, test))\n",
        "print('NN MAE = ', mean_absolute_error(NN_prediction, test))"
      ],
      "execution_count": 45,
      "outputs": [
        {
          "output_type": "stream",
          "text": [
            "XGBOOST MAE =  3194.1184430803573\n",
            "Prophet MAE =  571.8872860781038\n",
            "SARIMAX MAE =  650.6154682219609\n",
            "NN MAE =  724.5163922991071\n"
          ],
          "name": "stdout"
        }
      ]
    },
    {
      "cell_type": "code",
      "metadata": {
        "colab": {
          "base_uri": "https://localhost:8080/",
          "height": 317
        },
        "id": "BIUgw_x2zBt8",
        "outputId": "4004789f-5c36-43c5-83fb-76c27ffa806e"
      },
      "source": [
        "# Visualize all Model Predictions vs the Actual Value\n",
        "\n",
        "XGBOOST_df = pd.DataFrame({'y': XGBOOST_prediction.tolist()})\n",
        "XGBOOST_df.index = y_test.index\n",
        "\n",
        "NN_df = pd.DataFrame(NN_prediction)\n",
        "NN_df.index = y_test.index\n",
        "\n",
        "plt.figure(figsize=(20, 20))\n",
        "fig, axs = plt.subplots(2, 2)\n",
        "fig.suptitle('Compare SARIMAX, prophet, XGBOOST and NN')\n",
        "axs[0, 0].plot(dataset.tail(50))\n",
        "axs[0, 0].plot(sarimax_prediction.tail(50))\n",
        "axs[0, 0].set_title(\"SARIMAX\")\n",
        "axs[0, 1].plot(dataset.tail(50))\n",
        "axs[0, 1].plot(prophet_future.tail(50))\n",
        "axs[0, 1].set_title(\"Prophet\")\n",
        "axs[1, 0].plot(dataset.tail(50))\n",
        "axs[1, 0].plot(XGBOOST_df.tail(50))\n",
        "axs[1, 0].set_title(\"XGBOOST\")\n",
        "axs[1, 1].plot(dataset.tail(50))\n",
        "axs[1, 1].plot(NN_df.tail(50))\n",
        "axs[1, 1].set_title(\"NN\")\n",
        "\n",
        "for ax in fig.get_axes():\n",
        "    ax.label_outer()\n",
        "\n",
        "# Auto rotates the date labels on the x-axis.\n",
        "fig.autofmt_xdate()\n",
        "\n",
        "plt.savefig('Comparison',\n",
        "            bbox_inches='tight', transparent=False)"
      ],
      "execution_count": 46,
      "outputs": [
        {
          "output_type": "display_data",
          "data": {
            "text/plain": [
              "<Figure size 1440x1440 with 0 Axes>"
            ]
          },
          "metadata": {
            "tags": []
          }
        },
        {
          "output_type": "display_data",
          "data": {
            "image/png": "[encoded data removed]",
            "text/plain": [
              "<Figure size 432x288 with 4 Axes>"
            ]
          },
          "metadata": {
            "tags": [],
            "needs_background": "light"
          }
        }
      ]
    },
    {
      "cell_type": "code",
      "metadata": {
        "id": "Vo2UQz5R6Xbz"
      },
      "source": [
        ""
      ],
      "execution_count": 39,
      "outputs": []
    }
  ]
}