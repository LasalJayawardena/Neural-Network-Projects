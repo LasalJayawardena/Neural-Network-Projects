{
 "cells": [
  {
   "cell_type": "markdown",
   "metadata": {},
   "source": [
    "# Creating a Simple Neural Network with PyTorch "
   ]
  },
  {
   "cell_type": "code",
   "execution_count": 1,
   "metadata": {},
   "outputs": [],
   "source": [
    "import numpy as np \n",
    "import matplotlib.pyplot as plt\n",
    "import torch "
   ]
  },
  {
   "cell_type": "markdown",
   "metadata": {},
   "source": [
    "## Loading and Visualizing MNIST Dataset "
   ]
  },
  {
   "cell_type": "code",
   "execution_count": 2,
   "metadata": {},
   "outputs": [],
   "source": [
    "from torchvision import datasets, transforms as T"
   ]
  },
  {
   "cell_type": "code",
   "execution_count": 3,
   "metadata": {},
   "outputs": [],
   "source": [
    "transform = T.Compose([\n",
    "    T.ToTensor(),\n",
    "    T.Normalize((0.5),(0.5))\n",
    "])"
   ]
  },
  {
   "cell_type": "code",
   "execution_count": 4,
   "metadata": {},
   "outputs": [],
   "source": [
    "trainset = datasets.MNIST('MNIST_data/', download=False, train = True, transform= transform)\n",
    "\n",
    "testset = datasets.MNIST('MNIST_data/', download=False, train = False, transform= transform)"
   ]
  },
  {
   "cell_type": "code",
   "execution_count": 5,
   "metadata": {},
   "outputs": [
    {
     "name": "stdout",
     "output_type": "stream",
     "text": [
      "Size of train set : 60000\n"
     ]
    }
   ],
   "source": [
    "print(f'Size of train set : {len(trainset)}')"
   ]
  },
  {
   "cell_type": "code",
   "execution_count": 6,
   "metadata": {},
   "outputs": [
    {
     "name": "stdout",
     "output_type": "stream",
     "text": [
      "Size of test set : 10000\n"
     ]
    }
   ],
   "source": [
    "print(f'Size of test set : {len(testset)}')"
   ]
  },
  {
   "cell_type": "code",
   "execution_count": 7,
   "metadata": {},
   "outputs": [
    {
     "data": {
      "image/png": "[encoded data removed]",
      "text/plain": [
       "<Figure size 432x288 with 1 Axes>"
      ]
     },
     "metadata": {
      "needs_background": "light"
     },
     "output_type": "display_data"
    }
   ],
   "source": [
    "idx = 7\n",
    "image, label = trainset[idx]\n",
    "plt.imshow(image.numpy().squeeze(), cmap='gray');\n",
    "plt.title(label);"
   ]
  },
  {
   "cell_type": "markdown",
   "metadata": {},
   "source": [
    "## Splitting Dataset and Setting DataLoader Into Train,Test and Validation Set"
   ]
  },
  {
   "cell_type": "code",
   "execution_count": 8,
   "metadata": {},
   "outputs": [],
   "source": [
    "from torch.utils.data import DataLoader\n",
    "from torch.utils.data.sampler import SubsetRandomSampler"
   ]
  },
  {
   "cell_type": "code",
   "execution_count": 9,
   "metadata": {},
   "outputs": [],
   "source": [
    "valid_size = 0.2\n",
    "num_train = len(trainset)\n",
    "split = int(np.floor(valid_size*num_train))\n",
    "\n",
    "indices = list(range(num_train))\n",
    "np.random.shuffle(indices)\n",
    "train_idx, valid_idx = indices[split:], indices[:split]"
   ]
  },
  {
   "cell_type": "code",
   "execution_count": 10,
   "metadata": {},
   "outputs": [],
   "source": [
    "train_sampler = SubsetRandomSampler(train_idx)\n",
    "valid_sampler = SubsetRandomSampler(valid_idx)"
   ]
  },
  {
   "cell_type": "code",
   "execution_count": 11,
   "metadata": {},
   "outputs": [],
   "source": [
    "trainloader = DataLoader(trainset, batch_size=64, sampler= train_sampler)\n",
    "\n",
    "validloader = DataLoader(trainset, batch_size=64, sampler= valid_sampler)\n",
    "\n",
    "testloader = DataLoader(testset, batch_size=64, shuffle = True)"
   ]
  },
  {
   "cell_type": "code",
   "execution_count": 12,
   "metadata": {},
   "outputs": [
    {
     "name": "stdout",
     "output_type": "stream",
     "text": [
      "<class 'torch.Tensor'>\n",
      "torch.Size([64, 1, 28, 28])\n",
      "torch.Size([64])\n"
     ]
    }
   ],
   "source": [
    "dataiter = iter(trainloader)\n",
    "images, labels = dataiter.next()\n",
    "\n",
    "print(type(images))\n",
    "print(images.shape)\n",
    "print(labels.shape)"
   ]
  },
  {
   "cell_type": "code",
   "execution_count": 13,
   "metadata": {},
   "outputs": [
    {
     "name": "stdout",
     "output_type": "stream",
     "text": [
      "Batches in train loader : 750 \n",
      "Batches in valid loader : 188 \n",
      "Batches in test loader : 157 \n"
     ]
    }
   ],
   "source": [
    "print(f\"Batches in train loader : {len(trainloader)} \")\n",
    "print(f\"Batches in valid loader : {len(validloader)} \")\n",
    "print(f\"Batches in test loader : {len(testloader)} \")"
   ]
  },
  {
   "cell_type": "code",
   "execution_count": 14,
   "metadata": {},
   "outputs": [
    {
     "name": "stdout",
     "output_type": "stream",
     "text": [
      "Total Examples in train loader : 48000 \n",
      "Total Examples in valid loader : 12000 \n",
      "Total Examples in test loader : 10000 \n"
     ]
    }
   ],
   "source": [
    "print(f\"Total Examples in train loader : {len(trainloader.sampler)} \")\n",
    "print(f\"Total Examples in valid loader : {len(validloader.sampler)} \")\n",
    "print(f\"Total Examples in test loader : {len(testloader.dataset)} \")"
   ]
  },
  {
   "cell_type": "markdown",
   "metadata": {},
   "source": [
    "## Creating Neural Network or Model"
   ]
  },
  {
   "cell_type": "code",
   "execution_count": 15,
   "metadata": {},
   "outputs": [],
   "source": [
    "from torch import nn\n",
    "import torch.nn.functional as F"
   ]
  },
  {
   "cell_type": "code",
   "execution_count": 33,
   "metadata": {},
   "outputs": [],
   "source": [
    "class Classifier(nn.Module):\n",
    "\n",
    "    def __init__(self):\n",
    "        super(Classifier,self).__init__()\n",
    "\n",
    "        self.linear1 = nn.Linear(784,256)\n",
    "        self.linear2 = nn.Linear(256,128)\n",
    "        self.linear3 = nn.Linear(128,10)\n",
    "        #droput layer to prevent overfitiing\n",
    "        self.dropout = nn.Dropout(0.4)\n",
    "\n",
    "    def forward(self, images):\n",
    "        # convert images into input feature dimension\n",
    "        # [64,1,28,28] -> [64, 784]\n",
    "        images = images.view(images.shape[0], -1)\n",
    "\n",
    "        # First layer\n",
    "        z1 = self.linear1(images)\n",
    "        a1 = self.dropout(F.relu(z1))\n",
    "\n",
    "        # Second Layer\n",
    "        z2 = self.linear2(a1)\n",
    "        a2 = self.dropout(F.relu(z2))\n",
    "\n",
    "        # Third layer\n",
    "        z3 = self.linear3(a2)\n",
    "        a3 = F.log_softmax(z3, dim=1)\n",
    "\n",
    "        return a3"
   ]
  },
  {
   "cell_type": "code",
   "execution_count": 34,
   "metadata": {},
   "outputs": [
    {
     "name": "stdout",
     "output_type": "stream",
     "text": [
      "Classifier(\n",
      "  (linear1): Linear(in_features=784, out_features=256, bias=True)\n",
      "  (linear2): Linear(in_features=256, out_features=128, bias=True)\n",
      "  (linear3): Linear(in_features=128, out_features=10, bias=True)\n",
      "  (dropout): Dropout(p=0.4, inplace=False)\n",
      ")\n"
     ]
    }
   ],
   "source": [
    "model = Classifier()\n",
    "print(model)"
   ]
  },
  {
   "cell_type": "code",
   "execution_count": 35,
   "metadata": {},
   "outputs": [],
   "source": [
    "from torchsummary import summary"
   ]
  },
  {
   "cell_type": "code",
   "execution_count": 36,
   "metadata": {},
   "outputs": [
    {
     "name": "stdout",
     "output_type": "stream",
     "text": [
      "----------------------------------------------------------------\n",
      "        Layer (type)               Output Shape         Param #\n",
      "================================================================\n",
      "            Linear-1                  [-1, 256]         200,960\n",
      "           Dropout-2                  [-1, 256]               0\n",
      "            Linear-3                  [-1, 128]          32,896\n",
      "           Dropout-4                  [-1, 128]               0\n",
      "            Linear-5                   [-1, 10]           1,290\n",
      "================================================================\n",
      "Total params: 235,146\n",
      "Trainable params: 235,146\n",
      "Non-trainable params: 0\n",
      "----------------------------------------------------------------\n",
      "Input size (MB): 0.00\n",
      "Forward/backward pass size (MB): 0.01\n",
      "Params size (MB): 0.90\n",
      "Estimated Total Size (MB): 0.91\n",
      "----------------------------------------------------------------\n"
     ]
    }
   ],
   "source": [
    "summary(model, input_size=(1,28,28))"
   ]
  },
  {
   "cell_type": "markdown",
   "metadata": {},
   "source": [
    "## Traing the Neural Network"
   ]
  },
  {
   "cell_type": "code",
   "execution_count": 37,
   "metadata": {},
   "outputs": [],
   "source": [
    "from torch import optim\n",
    "from utils import multiclass_accuracy, view_classify"
   ]
  },
  {
   "cell_type": "code",
   "execution_count": 38,
   "metadata": {},
   "outputs": [],
   "source": [
    "criterion = nn.NLLLoss()\n",
    "optimizer = optim.Adam(model.parameters(), lr = 0.003)\n",
    "epochs = 10 "
   ]
  },
  {
   "cell_type": "code",
   "execution_count": 42,
   "metadata": {},
   "outputs": [
    {
     "name": "stdout",
     "output_type": "stream",
     "text": [
      "Epoch : 0\n",
      "Train Loss : 0.3878607063293457\n",
      "Valid Loss : 0.20256620673264594 \n",
      "Valid Accuracy : 0.9399933218955994\n",
      "Epoch : 1\n",
      "Train Loss : 0.35730376101533573\n",
      "Valid Loss : 0.20836124904057446 \n",
      "Valid Accuracy : 0.9385804533958435\n",
      "Epoch : 2\n",
      "Train Loss : 0.3486757804254691\n",
      "Valid Loss : 0.19271373271228784 \n",
      "Valid Accuracy : 0.9429853558540344\n",
      "Epoch : 3\n",
      "Train Loss : 0.3363995847205321\n",
      "Valid Loss : 0.20209047152720233 \n",
      "Valid Accuracy : 0.9377493262290955\n",
      "Epoch : 4\n",
      "Train Loss : 0.32943732173244156\n",
      "Valid Loss : 0.2042334534703417 \n",
      "Valid Accuracy : 0.9402427077293396\n",
      "Epoch : 5\n",
      "Train Loss : 0.3279194603860378\n",
      "Valid Loss : 0.17397375760520709 \n",
      "Valid Accuracy : 0.9477227330207825\n",
      "Epoch : 6\n",
      "Train Loss : 0.3156129492421945\n",
      "Valid Loss : 0.18768895611642522 \n",
      "Valid Accuracy : 0.9445645213127136\n",
      "Epoch : 7\n",
      "Train Loss : 0.3221787653664748\n",
      "Valid Loss : 0.17417927968137442 \n",
      "Valid Accuracy : 0.9493849873542786\n",
      "Epoch : 8\n",
      "Train Loss : 0.3039060103148222\n",
      "Valid Loss : 0.18344999567427217 \n",
      "Valid Accuracy : 0.944896936416626\n",
      "Epoch : 9\n",
      "Train Loss : 0.30473986434936523\n",
      "Valid Loss : 0.17431296600385549 \n",
      "Valid Accuracy : 0.9490525126457214\n"
     ]
    }
   ],
   "source": [
    "for e in range(epochs):\n",
    "    \n",
    "    train_loss = 0\n",
    "    valid_loss = 0\n",
    "    valid_acc = 0\n",
    "    \n",
    "    model.train()\n",
    "    \n",
    "    for images, labels in trainloader:\n",
    "        \n",
    "        log_p_s  = model.forward(images)\n",
    "        optimizer.zero_grad()\n",
    "        loss = criterion(log_p_s, labels)\n",
    "        \n",
    "        loss.backward()\n",
    "        optimizer.step()\n",
    "        \n",
    "        train_loss += loss.item()\n",
    "        \n",
    "    model.eval()\n",
    "    \n",
    "    for images, labels in validloader:\n",
    "        \n",
    "        log_p_s = model.forward(images)\n",
    "        ps = torch.exp(log_p_s)\n",
    "        \n",
    "        loss= criterion(log_p_s, labels)\n",
    "        \n",
    "        valid_acc += multiclass_accuracy(ps, labels)\n",
    "        valid_loss+= loss.item()\n",
    "    \n",
    "    \n",
    "    train_loss = train_loss/len(trainloader)\n",
    "    valid_loss = valid_loss/len(validloader)\n",
    "    valid_acc = valid_acc/len(validloader)\n",
    "    \n",
    "    \n",
    "    print(f\"Epoch : {e}\\nTrain Loss : {train_loss}\\nValid Loss : {valid_loss} \\nValid Accuracy : {valid_acc}\")"
   ]
  },
  {
   "cell_type": "markdown",
   "metadata": {},
   "source": [
    "## Evaluating the model"
   ]
  },
  {
   "cell_type": "code",
   "execution_count": 43,
   "metadata": {},
   "outputs": [
    {
     "name": "stdout",
     "output_type": "stream",
     "text": [
      "Test Loss : 0.16245626340246505 \n",
      "Test Accuracy : 0.9546178579330444\n"
     ]
    }
   ],
   "source": [
    "model.eval()\n",
    "\n",
    "test_loss = 0\n",
    "test_acc = 0\n",
    "\n",
    "for images, labels in testloader:\n",
    "\n",
    "    log_p_s = model.forward(images)\n",
    "    ps = torch.exp(log_p_s)\n",
    "\n",
    "    loss= criterion(log_p_s, labels)\n",
    "\n",
    "    test_acc += multiclass_accuracy(ps, labels)\n",
    "    test_loss+= loss.item()\n",
    "    \n",
    "test_loss = test_loss/len(testloader)\n",
    "test_acc = test_acc/len(testloader)\n",
    "\n",
    "print(f\"Test Loss : {test_loss} \\nTest Accuracy : {test_acc}\")"
   ]
  },
  {
   "cell_type": "code",
   "execution_count": 53,
   "metadata": {},
   "outputs": [
    {
     "data": {
      "image/png": "[encoded data removed]",
      "text/plain": [
       "<Figure size 432x648 with 2 Axes>"
      ]
     },
     "metadata": {
      "needs_background": "light"
     },
     "output_type": "display_data"
    }
   ],
   "source": [
    "dataiter = iter(testloader)\n",
    "images.labels = dataiter.next()\n",
    "\n",
    "\n",
    "idx = 8\n",
    "logps  = model.forward(images[idx])\n",
    "ps = torch.exp(logps)\n",
    "\n",
    "view_classify(images[idx], ps)"
   ]
  }
 ],
 "metadata": {
  "kernelspec": {
   "display_name": "Python 3",
   "language": "python",
   "name": "python3"
  },
  "language_info": {
   "codemirror_mode": {
    "name": "ipython",
    "version": 3
   },
   "file_extension": ".py",
   "mimetype": "text/x-python",
   "name": "python",
   "nbconvert_exporter": "python",
   "pygments_lexer": "ipython3",
   "version": "3.8.8"
  }
 },
 "nbformat": 4,
 "nbformat_minor": 4
}
